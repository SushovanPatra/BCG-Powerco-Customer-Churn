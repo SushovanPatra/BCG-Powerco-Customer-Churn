{
 "cells": [
  {
   "cell_type": "code",
   "execution_count": 181,
   "metadata": {},
   "outputs": [],
   "source": [
    "import pandas as pd\n",
    "import numpy as np\n",
    "import seaborn as sns\n",
    "import matplotlib.pyplot as plt"
   ]
  },
  {
   "cell_type": "code",
   "execution_count": 182,
   "metadata": {},
   "outputs": [],
   "source": [
    "from sklearn.preprocessing import LabelEncoder\n",
    "Le=LabelEncoder()"
   ]
  },
  {
   "cell_type": "code",
   "execution_count": 183,
   "metadata": {},
   "outputs": [
    {
     "data": {
      "text/html": [
       "<div>\n",
       "<style scoped>\n",
       "    .dataframe tbody tr th:only-of-type {\n",
       "        vertical-align: middle;\n",
       "    }\n",
       "\n",
       "    .dataframe tbody tr th {\n",
       "        vertical-align: top;\n",
       "    }\n",
       "\n",
       "    .dataframe thead th {\n",
       "        text-align: right;\n",
       "    }\n",
       "</style>\n",
       "<table border=\"1\" class=\"dataframe\">\n",
       "  <thead>\n",
       "    <tr style=\"text-align: right;\">\n",
       "      <th></th>\n",
       "      <th>Unnamed: 0</th>\n",
       "      <th>id</th>\n",
       "      <th>activity_new</th>\n",
       "      <th>channel_sales</th>\n",
       "      <th>date_activ</th>\n",
       "      <th>date_end</th>\n",
       "      <th>date_modif_prod</th>\n",
       "      <th>date_renewal</th>\n",
       "      <th>has_gas</th>\n",
       "      <th>origin_up</th>\n",
       "      <th>...</th>\n",
       "      <th>nb_prod_act</th>\n",
       "      <th>net_margin</th>\n",
       "      <th>num_years_antig</th>\n",
       "      <th>pow_max</th>\n",
       "      <th>churn</th>\n",
       "      <th>agg_margin</th>\n",
       "      <th>agg_cons</th>\n",
       "      <th>price_p1_var</th>\n",
       "      <th>price_p2_var</th>\n",
       "      <th>price_p1_fix</th>\n",
       "    </tr>\n",
       "  </thead>\n",
       "  <tbody>\n",
       "    <tr>\n",
       "      <th>0</th>\n",
       "      <td>0</td>\n",
       "      <td>48ada52261e7cf58715202705a0451c9</td>\n",
       "      <td>esoiiifxdlbkcsluxmfuacbdckommixw</td>\n",
       "      <td>lmkebamcaaclubfxadlmueccxoimlema</td>\n",
       "      <td>2012-11-07</td>\n",
       "      <td>2016-11-06</td>\n",
       "      <td>2012-11-07</td>\n",
       "      <td>2015-11-09</td>\n",
       "      <td>f</td>\n",
       "      <td>ldkssxwpmemidmecebumciepifcamkci</td>\n",
       "      <td>...</td>\n",
       "      <td>0.000000</td>\n",
       "      <td>12.010084</td>\n",
       "      <td>1.098612</td>\n",
       "      <td>5.192957</td>\n",
       "      <td>0</td>\n",
       "      <td>-41.76</td>\n",
       "      <td>54.248738</td>\n",
       "      <td>0.103449</td>\n",
       "      <td>0.092115</td>\n",
       "      <td>58.956502</td>\n",
       "    </tr>\n",
       "    <tr>\n",
       "      <th>1</th>\n",
       "      <td>1</td>\n",
       "      <td>24011ae4ebbe3035111d65fa7c15bc57</td>\n",
       "      <td>Unknown</td>\n",
       "      <td>foosdfpfkusacimwkcsosbicdxkicaua</td>\n",
       "      <td>2013-06-15</td>\n",
       "      <td>2016-06-15</td>\n",
       "      <td>2013-06-15</td>\n",
       "      <td>2015-06-23</td>\n",
       "      <td>t</td>\n",
       "      <td>lxidpiddsbxsbosboudacockeimpuepw</td>\n",
       "      <td>...</td>\n",
       "      <td>0.693147</td>\n",
       "      <td>8.789303</td>\n",
       "      <td>1.098612</td>\n",
       "      <td>3.776157</td>\n",
       "      <td>1</td>\n",
       "      <td>25.44</td>\n",
       "      <td>0.000000</td>\n",
       "      <td>0.122856</td>\n",
       "      <td>0.102137</td>\n",
       "      <td>40.640023</td>\n",
       "    </tr>\n",
       "    <tr>\n",
       "      <th>2</th>\n",
       "      <td>2</td>\n",
       "      <td>d29c2c54acc38ff3c0614d0a653813dd</td>\n",
       "      <td>Unknown</td>\n",
       "      <td>Unknown</td>\n",
       "      <td>2009-08-21</td>\n",
       "      <td>2016-08-30</td>\n",
       "      <td>2009-08-21</td>\n",
       "      <td>2015-08-31</td>\n",
       "      <td>f</td>\n",
       "      <td>kamkkxfxxuwbdslkwifmmcsiusiuosws</td>\n",
       "      <td>...</td>\n",
       "      <td>0.000000</td>\n",
       "      <td>2.663242</td>\n",
       "      <td>1.791759</td>\n",
       "      <td>2.624669</td>\n",
       "      <td>0</td>\n",
       "      <td>16.38</td>\n",
       "      <td>13.257205</td>\n",
       "      <td>0.149934</td>\n",
       "      <td>0.000000</td>\n",
       "      <td>44.315416</td>\n",
       "    </tr>\n",
       "    <tr>\n",
       "      <th>3</th>\n",
       "      <td>3</td>\n",
       "      <td>764c75f661154dac3a6c254cd082ea7d</td>\n",
       "      <td>Unknown</td>\n",
       "      <td>foosdfpfkusacimwkcsosbicdxkicaua</td>\n",
       "      <td>2010-04-16</td>\n",
       "      <td>2016-04-16</td>\n",
       "      <td>2010-04-16</td>\n",
       "      <td>2015-04-17</td>\n",
       "      <td>f</td>\n",
       "      <td>kamkkxfxxuwbdslkwifmmcsiusiuosws</td>\n",
       "      <td>...</td>\n",
       "      <td>0.000000</td>\n",
       "      <td>1.875777</td>\n",
       "      <td>1.791759</td>\n",
       "      <td>2.628718</td>\n",
       "      <td>0</td>\n",
       "      <td>28.60</td>\n",
       "      <td>6.479224</td>\n",
       "      <td>0.170512</td>\n",
       "      <td>0.088421</td>\n",
       "      <td>44.385450</td>\n",
       "    </tr>\n",
       "    <tr>\n",
       "      <th>4</th>\n",
       "      <td>4</td>\n",
       "      <td>bba03439a292a1e166f80264c16191cb</td>\n",
       "      <td>Unknown</td>\n",
       "      <td>lmkebamcaaclubfxadlmueccxoimlema</td>\n",
       "      <td>2010-03-30</td>\n",
       "      <td>2016-03-30</td>\n",
       "      <td>2010-03-30</td>\n",
       "      <td>2015-03-31</td>\n",
       "      <td>f</td>\n",
       "      <td>kamkkxfxxuwbdslkwifmmcsiusiuosws</td>\n",
       "      <td>...</td>\n",
       "      <td>0.000000</td>\n",
       "      <td>2.941843</td>\n",
       "      <td>1.791759</td>\n",
       "      <td>2.580217</td>\n",
       "      <td>0</td>\n",
       "      <td>30.22</td>\n",
       "      <td>9.252130</td>\n",
       "      <td>0.151210</td>\n",
       "      <td>0.000000</td>\n",
       "      <td>44.400265</td>\n",
       "    </tr>\n",
       "  </tbody>\n",
       "</table>\n",
       "<p>5 rows × 25 columns</p>\n",
       "</div>"
      ],
      "text/plain": [
       "   Unnamed: 0                                id  \\\n",
       "0           0  48ada52261e7cf58715202705a0451c9   \n",
       "1           1  24011ae4ebbe3035111d65fa7c15bc57   \n",
       "2           2  d29c2c54acc38ff3c0614d0a653813dd   \n",
       "3           3  764c75f661154dac3a6c254cd082ea7d   \n",
       "4           4  bba03439a292a1e166f80264c16191cb   \n",
       "\n",
       "                       activity_new                     channel_sales  \\\n",
       "0  esoiiifxdlbkcsluxmfuacbdckommixw  lmkebamcaaclubfxadlmueccxoimlema   \n",
       "1                           Unknown  foosdfpfkusacimwkcsosbicdxkicaua   \n",
       "2                           Unknown                           Unknown   \n",
       "3                           Unknown  foosdfpfkusacimwkcsosbicdxkicaua   \n",
       "4                           Unknown  lmkebamcaaclubfxadlmueccxoimlema   \n",
       "\n",
       "   date_activ    date_end date_modif_prod date_renewal has_gas  \\\n",
       "0  2012-11-07  2016-11-06      2012-11-07   2015-11-09       f   \n",
       "1  2013-06-15  2016-06-15      2013-06-15   2015-06-23       t   \n",
       "2  2009-08-21  2016-08-30      2009-08-21   2015-08-31       f   \n",
       "3  2010-04-16  2016-04-16      2010-04-16   2015-04-17       f   \n",
       "4  2010-03-30  2016-03-30      2010-03-30   2015-03-31       f   \n",
       "\n",
       "                          origin_up  ...  nb_prod_act  net_margin  \\\n",
       "0  ldkssxwpmemidmecebumciepifcamkci  ...     0.000000   12.010084   \n",
       "1  lxidpiddsbxsbosboudacockeimpuepw  ...     0.693147    8.789303   \n",
       "2  kamkkxfxxuwbdslkwifmmcsiusiuosws  ...     0.000000    2.663242   \n",
       "3  kamkkxfxxuwbdslkwifmmcsiusiuosws  ...     0.000000    1.875777   \n",
       "4  kamkkxfxxuwbdslkwifmmcsiusiuosws  ...     0.000000    2.941843   \n",
       "\n",
       "   num_years_antig   pow_max  churn  agg_margin   agg_cons  price_p1_var  \\\n",
       "0         1.098612  5.192957      0      -41.76  54.248738      0.103449   \n",
       "1         1.098612  3.776157      1       25.44   0.000000      0.122856   \n",
       "2         1.791759  2.624669      0       16.38  13.257205      0.149934   \n",
       "3         1.791759  2.628718      0       28.60   6.479224      0.170512   \n",
       "4         1.791759  2.580217      0       30.22   9.252130      0.151210   \n",
       "\n",
       "   price_p2_var  price_p1_fix  \n",
       "0      0.092115     58.956502  \n",
       "1      0.102137     40.640023  \n",
       "2      0.000000     44.315416  \n",
       "3      0.088421     44.385450  \n",
       "4      0.000000     44.400265  \n",
       "\n",
       "[5 rows x 25 columns]"
      ]
     },
     "execution_count": 183,
     "metadata": {},
     "output_type": "execute_result"
    }
   ],
   "source": [
    "data=pd.read_csv('train_final.csv')\n",
    "data.head()"
   ]
  },
  {
   "cell_type": "code",
   "execution_count": 184,
   "metadata": {},
   "outputs": [
    {
     "data": {
      "text/plain": [
       "<matplotlib.axes._subplots.AxesSubplot at 0x1b000000190>"
      ]
     },
     "execution_count": 184,
     "metadata": {},
     "output_type": "execute_result"
    },
    {
     "data": {
      "image/png": "[encoded data removed]",
      "text/plain": [
       "<Figure size 1008x720 with 2 Axes>"
      ]
     },
     "metadata": {
      "needs_background": "light"
     },
     "output_type": "display_data"
    }
   ],
   "source": [
    "sns.heatmap(data.corr(),annot=True)"
   ]
  },
  {
   "cell_type": "code",
   "execution_count": 185,
   "metadata": {},
   "outputs": [
    {
     "name": "stdout",
     "output_type": "stream",
     "text": [
      "<class 'pandas.core.frame.DataFrame'>\n",
      "RangeIndex: 16092 entries, 0 to 16091\n",
      "Data columns (total 25 columns):\n",
      " #   Column                    Non-Null Count  Dtype  \n",
      "---  ------                    --------------  -----  \n",
      " 0   Unnamed: 0                16092 non-null  int64  \n",
      " 1   id                        16092 non-null  object \n",
      " 2   activity_new              16092 non-null  object \n",
      " 3   channel_sales             16092 non-null  object \n",
      " 4   date_activ                16092 non-null  object \n",
      " 5   date_end                  16092 non-null  object \n",
      " 6   date_modif_prod           16092 non-null  object \n",
      " 7   date_renewal              16092 non-null  object \n",
      " 8   has_gas                   16092 non-null  object \n",
      " 9   origin_up                 16092 non-null  object \n",
      " 10  cons_gas_12m              16092 non-null  float64\n",
      " 11  forecast_discount_energy  16092 non-null  float64\n",
      " 12  forecast_meter_rent_12m   16092 non-null  float64\n",
      " 13  forecast_price_pow_p1     16092 non-null  float64\n",
      " 14  imp_cons                  16092 non-null  float64\n",
      " 15  nb_prod_act               16092 non-null  float64\n",
      " 16  net_margin                16092 non-null  float64\n",
      " 17  num_years_antig           16092 non-null  float64\n",
      " 18  pow_max                   16092 non-null  float64\n",
      " 19  churn                     16092 non-null  int64  \n",
      " 20  agg_margin                16092 non-null  float64\n",
      " 21  agg_cons                  16092 non-null  float64\n",
      " 22  price_p1_var              16092 non-null  float64\n",
      " 23  price_p2_var              16092 non-null  float64\n",
      " 24  price_p1_fix              16092 non-null  float64\n",
      "dtypes: float64(14), int64(2), object(9)\n",
      "memory usage: 3.1+ MB\n"
     ]
    }
   ],
   "source": [
    "data.info()"
   ]
  },
  {
   "cell_type": "code",
   "execution_count": 186,
   "metadata": {},
   "outputs": [
    {
     "data": {
      "text/html": [
       "<div>\n",
       "<style scoped>\n",
       "    .dataframe tbody tr th:only-of-type {\n",
       "        vertical-align: middle;\n",
       "    }\n",
       "\n",
       "    .dataframe tbody tr th {\n",
       "        vertical-align: top;\n",
       "    }\n",
       "\n",
       "    .dataframe thead th {\n",
       "        text-align: right;\n",
       "    }\n",
       "</style>\n",
       "<table border=\"1\" class=\"dataframe\">\n",
       "  <thead>\n",
       "    <tr style=\"text-align: right;\">\n",
       "      <th></th>\n",
       "      <th>activity_new</th>\n",
       "      <th>channel_sales</th>\n",
       "      <th>date_activ</th>\n",
       "      <th>date_end</th>\n",
       "      <th>date_modif_prod</th>\n",
       "      <th>date_renewal</th>\n",
       "      <th>has_gas</th>\n",
       "      <th>origin_up</th>\n",
       "      <th>cons_gas_12m</th>\n",
       "      <th>forecast_discount_energy</th>\n",
       "      <th>...</th>\n",
       "      <th>nb_prod_act</th>\n",
       "      <th>net_margin</th>\n",
       "      <th>num_years_antig</th>\n",
       "      <th>pow_max</th>\n",
       "      <th>churn</th>\n",
       "      <th>agg_margin</th>\n",
       "      <th>agg_cons</th>\n",
       "      <th>price_p1_var</th>\n",
       "      <th>price_p2_var</th>\n",
       "      <th>price_p1_fix</th>\n",
       "    </tr>\n",
       "  </thead>\n",
       "  <tbody>\n",
       "    <tr>\n",
       "      <th>0</th>\n",
       "      <td>esoiiifxdlbkcsluxmfuacbdckommixw</td>\n",
       "      <td>lmkebamcaaclubfxadlmueccxoimlema</td>\n",
       "      <td>2012-11-07</td>\n",
       "      <td>2016-11-06</td>\n",
       "      <td>2012-11-07</td>\n",
       "      <td>2015-11-09</td>\n",
       "      <td>f</td>\n",
       "      <td>ldkssxwpmemidmecebumciepifcamkci</td>\n",
       "      <td>0.000000</td>\n",
       "      <td>0.0</td>\n",
       "      <td>...</td>\n",
       "      <td>0.000000</td>\n",
       "      <td>12.010084</td>\n",
       "      <td>1.098612</td>\n",
       "      <td>5.192957</td>\n",
       "      <td>0</td>\n",
       "      <td>-41.76</td>\n",
       "      <td>54.248738</td>\n",
       "      <td>0.103449</td>\n",
       "      <td>0.092115</td>\n",
       "      <td>58.956502</td>\n",
       "    </tr>\n",
       "    <tr>\n",
       "      <th>1</th>\n",
       "      <td>Unknown</td>\n",
       "      <td>foosdfpfkusacimwkcsosbicdxkicaua</td>\n",
       "      <td>2013-06-15</td>\n",
       "      <td>2016-06-15</td>\n",
       "      <td>2013-06-15</td>\n",
       "      <td>2015-06-23</td>\n",
       "      <td>t</td>\n",
       "      <td>lxidpiddsbxsbosboudacockeimpuepw</td>\n",
       "      <td>38.017075</td>\n",
       "      <td>0.0</td>\n",
       "      <td>...</td>\n",
       "      <td>0.693147</td>\n",
       "      <td>8.789303</td>\n",
       "      <td>1.098612</td>\n",
       "      <td>3.776157</td>\n",
       "      <td>1</td>\n",
       "      <td>25.44</td>\n",
       "      <td>0.000000</td>\n",
       "      <td>0.122856</td>\n",
       "      <td>0.102137</td>\n",
       "      <td>40.640023</td>\n",
       "    </tr>\n",
       "    <tr>\n",
       "      <th>2</th>\n",
       "      <td>Unknown</td>\n",
       "      <td>Unknown</td>\n",
       "      <td>2009-08-21</td>\n",
       "      <td>2016-08-30</td>\n",
       "      <td>2009-08-21</td>\n",
       "      <td>2015-08-31</td>\n",
       "      <td>f</td>\n",
       "      <td>kamkkxfxxuwbdslkwifmmcsiusiuosws</td>\n",
       "      <td>0.000000</td>\n",
       "      <td>0.0</td>\n",
       "      <td>...</td>\n",
       "      <td>0.000000</td>\n",
       "      <td>2.663242</td>\n",
       "      <td>1.791759</td>\n",
       "      <td>2.624669</td>\n",
       "      <td>0</td>\n",
       "      <td>16.38</td>\n",
       "      <td>13.257205</td>\n",
       "      <td>0.149934</td>\n",
       "      <td>0.000000</td>\n",
       "      <td>44.315416</td>\n",
       "    </tr>\n",
       "    <tr>\n",
       "      <th>3</th>\n",
       "      <td>Unknown</td>\n",
       "      <td>foosdfpfkusacimwkcsosbicdxkicaua</td>\n",
       "      <td>2010-04-16</td>\n",
       "      <td>2016-04-16</td>\n",
       "      <td>2010-04-16</td>\n",
       "      <td>2015-04-17</td>\n",
       "      <td>f</td>\n",
       "      <td>kamkkxfxxuwbdslkwifmmcsiusiuosws</td>\n",
       "      <td>0.000000</td>\n",
       "      <td>0.0</td>\n",
       "      <td>...</td>\n",
       "      <td>0.000000</td>\n",
       "      <td>1.875777</td>\n",
       "      <td>1.791759</td>\n",
       "      <td>2.628718</td>\n",
       "      <td>0</td>\n",
       "      <td>28.60</td>\n",
       "      <td>6.479224</td>\n",
       "      <td>0.170512</td>\n",
       "      <td>0.088421</td>\n",
       "      <td>44.385450</td>\n",
       "    </tr>\n",
       "    <tr>\n",
       "      <th>4</th>\n",
       "      <td>Unknown</td>\n",
       "      <td>lmkebamcaaclubfxadlmueccxoimlema</td>\n",
       "      <td>2010-03-30</td>\n",
       "      <td>2016-03-30</td>\n",
       "      <td>2010-03-30</td>\n",
       "      <td>2015-03-31</td>\n",
       "      <td>f</td>\n",
       "      <td>kamkkxfxxuwbdslkwifmmcsiusiuosws</td>\n",
       "      <td>0.000000</td>\n",
       "      <td>0.0</td>\n",
       "      <td>...</td>\n",
       "      <td>0.000000</td>\n",
       "      <td>2.941843</td>\n",
       "      <td>1.791759</td>\n",
       "      <td>2.580217</td>\n",
       "      <td>0</td>\n",
       "      <td>30.22</td>\n",
       "      <td>9.252130</td>\n",
       "      <td>0.151210</td>\n",
       "      <td>0.000000</td>\n",
       "      <td>44.400265</td>\n",
       "    </tr>\n",
       "  </tbody>\n",
       "</table>\n",
       "<p>5 rows × 23 columns</p>\n",
       "</div>"
      ],
      "text/plain": [
       "                       activity_new                     channel_sales  \\\n",
       "0  esoiiifxdlbkcsluxmfuacbdckommixw  lmkebamcaaclubfxadlmueccxoimlema   \n",
       "1                           Unknown  foosdfpfkusacimwkcsosbicdxkicaua   \n",
       "2                           Unknown                           Unknown   \n",
       "3                           Unknown  foosdfpfkusacimwkcsosbicdxkicaua   \n",
       "4                           Unknown  lmkebamcaaclubfxadlmueccxoimlema   \n",
       "\n",
       "   date_activ    date_end date_modif_prod date_renewal has_gas  \\\n",
       "0  2012-11-07  2016-11-06      2012-11-07   2015-11-09       f   \n",
       "1  2013-06-15  2016-06-15      2013-06-15   2015-06-23       t   \n",
       "2  2009-08-21  2016-08-30      2009-08-21   2015-08-31       f   \n",
       "3  2010-04-16  2016-04-16      2010-04-16   2015-04-17       f   \n",
       "4  2010-03-30  2016-03-30      2010-03-30   2015-03-31       f   \n",
       "\n",
       "                          origin_up  cons_gas_12m  forecast_discount_energy  \\\n",
       "0  ldkssxwpmemidmecebumciepifcamkci      0.000000                       0.0   \n",
       "1  lxidpiddsbxsbosboudacockeimpuepw     38.017075                       0.0   \n",
       "2  kamkkxfxxuwbdslkwifmmcsiusiuosws      0.000000                       0.0   \n",
       "3  kamkkxfxxuwbdslkwifmmcsiusiuosws      0.000000                       0.0   \n",
       "4  kamkkxfxxuwbdslkwifmmcsiusiuosws      0.000000                       0.0   \n",
       "\n",
       "   ...  nb_prod_act  net_margin  num_years_antig   pow_max  churn  agg_margin  \\\n",
       "0  ...     0.000000   12.010084         1.098612  5.192957      0      -41.76   \n",
       "1  ...     0.693147    8.789303         1.098612  3.776157      1       25.44   \n",
       "2  ...     0.000000    2.663242         1.791759  2.624669      0       16.38   \n",
       "3  ...     0.000000    1.875777         1.791759  2.628718      0       28.60   \n",
       "4  ...     0.000000    2.941843         1.791759  2.580217      0       30.22   \n",
       "\n",
       "    agg_cons  price_p1_var  price_p2_var  price_p1_fix  \n",
       "0  54.248738      0.103449      0.092115     58.956502  \n",
       "1   0.000000      0.122856      0.102137     40.640023  \n",
       "2  13.257205      0.149934      0.000000     44.315416  \n",
       "3   6.479224      0.170512      0.088421     44.385450  \n",
       "4   9.252130      0.151210      0.000000     44.400265  \n",
       "\n",
       "[5 rows x 23 columns]"
      ]
     },
     "execution_count": 186,
     "metadata": {},
     "output_type": "execute_result"
    }
   ],
   "source": [
    "target=data['churn']\n",
    "ids=data[['id']]\n",
    "data=data.drop(['id','Unnamed: 0'],axis=1)\n",
    "data.head()"
   ]
  },
  {
   "cell_type": "code",
   "execution_count": 187,
   "metadata": {},
   "outputs": [],
   "source": [
    "#Statistical tests on the data"
   ]
  },
  {
   "cell_type": "code",
   "execution_count": 188,
   "metadata": {},
   "outputs": [
    {
     "data": {
      "text/plain": [
       "(16092, 15)"
      ]
     },
     "execution_count": 188,
     "metadata": {},
     "output_type": "execute_result"
    }
   ],
   "source": [
    "num=data.select_dtypes(include=np.number)\n",
    "num.shape"
   ]
  },
  {
   "cell_type": "code",
   "execution_count": 189,
   "metadata": {},
   "outputs": [],
   "source": [
    "import scipy.stats as stats\n",
    "from statsmodels.stats.proportion import proportions_ztest"
   ]
  },
  {
   "cell_type": "raw",
   "metadata": {},
   "source": [
    "channel_sales"
   ]
  },
  {
   "cell_type": "code",
   "execution_count": 190,
   "metadata": {},
   "outputs": [
    {
     "data": {
      "text/plain": [
       "(126.66650349808289,\n",
       " 3.121968454361136e-24,\n",
       " 7,\n",
       " array([[3.79838230e+03, 4.17617698e+02],\n",
       "        [3.60377827e+00, 3.96221725e-01],\n",
       "        [8.70312453e+02, 9.56875466e+01],\n",
       "        [1.80188914e+00, 1.98110863e-01],\n",
       "        [6.64446619e+03, 7.30533806e+02],\n",
       "        [1.86765809e+03, 2.05341909e+02],\n",
       "        [1.08113348e+01, 1.18866518e+00],\n",
       "        [1.30096396e+03, 1.43036043e+02]]))"
      ]
     },
     "execution_count": 190,
     "metadata": {},
     "output_type": "execute_result"
    }
   ],
   "source": [
    "stats.chi2_contingency(pd.crosstab(data['channel_sales'],data['churn']))"
   ]
  },
  {
   "cell_type": "code",
   "execution_count": 191,
   "metadata": {},
   "outputs": [
    {
     "data": {
      "text/plain": [
       "14.067140449340167"
      ]
     },
     "execution_count": 191,
     "metadata": {},
     "output_type": "execute_result"
    }
   ],
   "source": [
    "stats.chi2.isf(0.05,7)"
   ]
  },
  {
   "cell_type": "raw",
   "metadata": {},
   "source": [
    "Significant feature @channel sales"
   ]
  },
  {
   "cell_type": "raw",
   "metadata": {},
   "source": [
    "origin_up"
   ]
  },
  {
   "cell_type": "code",
   "execution_count": 192,
   "metadata": {},
   "outputs": [
    {
     "data": {
      "text/plain": [
       "(171.11365303977647,\n",
       " 4.221626394134051e-35,\n",
       " 5,\n",
       " array([[7.83821775e+01, 8.61782252e+00],\n",
       "        [9.00944569e-01, 9.90554313e-02],\n",
       "        [4.06956662e+03, 4.47433383e+02],\n",
       "        [3.30015996e+03, 3.62840045e+02],\n",
       "        [7.04718842e+03, 7.74811583e+02],\n",
       "        [1.80188914e+00, 1.98110863e-01]]))"
      ]
     },
     "execution_count": 192,
     "metadata": {},
     "output_type": "execute_result"
    }
   ],
   "source": [
    "stats.chi2_contingency(pd.crosstab(data['origin_up'],data['churn']))\n"
   ]
  },
  {
   "cell_type": "code",
   "execution_count": 193,
   "metadata": {},
   "outputs": [
    {
     "data": {
      "text/plain": [
       "11.070497693516355"
      ]
     },
     "execution_count": 193,
     "metadata": {},
     "output_type": "execute_result"
    }
   ],
   "source": [
    "stats.chi2.isf(0.05,5)"
   ]
  },
  {
   "cell_type": "raw",
   "metadata": {},
   "source": [
    "significant feature origin up"
   ]
  },
  {
   "cell_type": "raw",
   "metadata": {},
   "source": [
    "has_gas"
   ]
  },
  {
   "cell_type": "code",
   "execution_count": 194,
   "metadata": {},
   "outputs": [
    {
     "data": {
      "text/html": [
       "<div>\n",
       "<style scoped>\n",
       "    .dataframe tbody tr th:only-of-type {\n",
       "        vertical-align: middle;\n",
       "    }\n",
       "\n",
       "    .dataframe tbody tr th {\n",
       "        vertical-align: top;\n",
       "    }\n",
       "\n",
       "    .dataframe thead th {\n",
       "        text-align: right;\n",
       "    }\n",
       "</style>\n",
       "<table border=\"1\" class=\"dataframe\">\n",
       "  <thead>\n",
       "    <tr style=\"text-align: right;\">\n",
       "      <th>churn</th>\n",
       "      <th>0</th>\n",
       "      <th>1</th>\n",
       "    </tr>\n",
       "    <tr>\n",
       "      <th>has_gas</th>\n",
       "      <th></th>\n",
       "      <th></th>\n",
       "    </tr>\n",
       "  </thead>\n",
       "  <tbody>\n",
       "    <tr>\n",
       "      <th>f</th>\n",
       "      <td>11768</td>\n",
       "      <td>1360</td>\n",
       "    </tr>\n",
       "    <tr>\n",
       "      <th>t</th>\n",
       "      <td>2730</td>\n",
       "      <td>234</td>\n",
       "    </tr>\n",
       "  </tbody>\n",
       "</table>\n",
       "</div>"
      ],
      "text/plain": [
       "churn        0     1\n",
       "has_gas             \n",
       "f        11768  1360\n",
       "t         2730   234"
      ]
     },
     "execution_count": 194,
     "metadata": {},
     "output_type": "execute_result"
    }
   ],
   "source": [
    "pd.crosstab(data['has_gas'],data['churn'])"
   ]
  },
  {
   "cell_type": "code",
   "execution_count": 195,
   "metadata": {},
   "outputs": [
    {
     "data": {
      "text/plain": [
       "(4.057204319803417, 4.9663631969112975e-05)"
      ]
     },
     "execution_count": 195,
     "metadata": {},
     "output_type": "execute_result"
    }
   ],
   "source": [
    "proportions_ztest([1360,234],[1360+11768,2730+234])"
   ]
  },
  {
   "cell_type": "raw",
   "metadata": {},
   "source": [
    "has gas is a significant feature"
   ]
  },
  {
   "cell_type": "code",
   "execution_count": 196,
   "metadata": {},
   "outputs": [
    {
     "name": "stdout",
     "output_type": "stream",
     "text": [
      "\n",
      "\n",
      " cons_gas_12m\n",
      "Ttest_indResult(statistic=5.349637700164086, pvalue=8.933608862715879e-08)\n",
      "cons_gas_12m is  a significant feature\n",
      "\n",
      "\n",
      " forecast_discount_energy\n",
      "Ttest_indResult(statistic=-1.3896051366980993, pvalue=0.16466804215940373)\n",
      "forecast_discount_energy is not a significant feature\n",
      "\n",
      "\n",
      " forecast_meter_rent_12m\n",
      "Ttest_indResult(statistic=-4.053430797011547, pvalue=5.070928443992088e-05)\n",
      "forecast_meter_rent_12m is  a significant feature\n",
      "\n",
      "\n",
      " forecast_price_pow_p1\n",
      "Ttest_indResult(statistic=-0.6313784400802471, pvalue=0.5278020787370252)\n",
      "forecast_price_pow_p1 is not a significant feature\n",
      "\n",
      "\n",
      " imp_cons\n",
      "Ttest_indResult(statistic=0.4849256485638587, pvalue=0.6277356894382188)\n",
      "imp_cons is not a significant feature\n",
      "\n",
      "\n",
      " nb_prod_act\n",
      "Ttest_indResult(statistic=3.323036054865293, pvalue=0.0008924201734841871)\n",
      "nb_prod_act is  a significant feature\n",
      "\n",
      "\n",
      " net_margin\n",
      "Ttest_indResult(statistic=-2.141336457410192, pvalue=0.03226189094635491)\n",
      "net_margin is  a significant feature\n",
      "\n",
      "\n",
      " num_years_antig\n",
      "Ttest_indResult(statistic=10.251598808784893, pvalue=1.3854009323117812e-24)\n",
      "num_years_antig is  a significant feature\n",
      "\n",
      "\n",
      " pow_max\n",
      "Ttest_indResult(statistic=-2.8979609746912516, pvalue=0.0037610427488309647)\n",
      "pow_max is  a significant feature\n",
      "\n",
      "\n",
      " churn\n",
      "Ttest_indResult(statistic=-inf, pvalue=0.0)\n",
      "churn is  a significant feature\n",
      "\n",
      "\n",
      " agg_margin\n",
      "Ttest_indResult(statistic=-9.625107420623785, pvalue=7.174568775062245e-22)\n",
      "agg_margin is  a significant feature\n",
      "\n",
      "\n",
      " agg_cons\n",
      "Ttest_indResult(statistic=5.639393614184523, pvalue=1.7351848739438236e-08)\n",
      "agg_cons is  a significant feature\n",
      "\n",
      "\n",
      " price_p1_var\n",
      "Ttest_indResult(statistic=-0.42554473674992466, pvalue=0.6704453079664829)\n",
      "price_p1_var is not a significant feature\n",
      "\n",
      "\n",
      " price_p2_var\n",
      "Ttest_indResult(statistic=-3.0205470437060136, pvalue=0.0025271455345055507)\n",
      "price_p2_var is  a significant feature\n",
      "\n",
      "\n",
      " price_p1_fix\n",
      "Ttest_indResult(statistic=-1.0382327843269628, pvalue=0.2991772947543022)\n",
      "price_p1_fix is not a significant feature\n"
     ]
    }
   ],
   "source": [
    "insig,sig=[],[]\n",
    "for i in num:\n",
    "    n0=data[data['churn']==0][i]\n",
    "    n1=data[data['churn']==1][i]\n",
    "    print('\\n\\n',i)\n",
    "    k=stats.ttest_ind(n0,n1)\n",
    "    print(k)\n",
    "    if k[1]<0.05:\n",
    "        print(i,end=' ')\n",
    "        print('is  a significant feature')\n",
    "        sig.append(i)\n",
    "    else:\n",
    "        print(i,end=' ')\n",
    "        print('is not a significant feature')\n",
    "        insig.append(i)"
   ]
  },
  {
   "cell_type": "code",
   "execution_count": 197,
   "metadata": {},
   "outputs": [
    {
     "name": "stdout",
     "output_type": "stream",
     "text": [
      "significant features in total\n",
      " ['cons_gas_12m', 'forecast_meter_rent_12m', 'nb_prod_act', 'net_margin', 'num_years_antig', 'pow_max', 'churn', 'agg_margin', 'agg_cons', 'price_p2_var']\n",
      "\n",
      "\n",
      "insignificant features in total\n",
      " ['forecast_discount_energy', 'forecast_price_pow_p1', 'imp_cons', 'price_p1_var', 'price_p1_fix']\n"
     ]
    }
   ],
   "source": [
    "print('significant features in total\\n', sig )\n",
    "print('\\n\\ninsignificant features in total\\n', insig )"
   ]
  },
  {
   "cell_type": "code",
   "execution_count": 198,
   "metadata": {},
   "outputs": [
    {
     "name": "stdout",
     "output_type": "stream",
     "text": [
      "<class 'pandas.core.frame.DataFrame'>\n",
      "RangeIndex: 16092 entries, 0 to 16091\n",
      "Data columns (total 4 columns):\n",
      " #   Column           Non-Null Count  Dtype \n",
      "---  ------           --------------  ----- \n",
      " 0   date_activ       16092 non-null  object\n",
      " 1   date_end         16092 non-null  object\n",
      " 2   date_modif_prod  16092 non-null  object\n",
      " 3   date_renewal     16092 non-null  object\n",
      "dtypes: object(4)\n",
      "memory usage: 503.0+ KB\n"
     ]
    }
   ],
   "source": [
    "data[['date_activ','date_end','date_modif_prod','date_renewal']].info()"
   ]
  },
  {
   "cell_type": "code",
   "execution_count": 199,
   "metadata": {},
   "outputs": [
    {
     "data": {
      "text/html": [
       "<div>\n",
       "<style scoped>\n",
       "    .dataframe tbody tr th:only-of-type {\n",
       "        vertical-align: middle;\n",
       "    }\n",
       "\n",
       "    .dataframe tbody tr th {\n",
       "        vertical-align: top;\n",
       "    }\n",
       "\n",
       "    .dataframe thead th {\n",
       "        text-align: right;\n",
       "    }\n",
       "</style>\n",
       "<table border=\"1\" class=\"dataframe\">\n",
       "  <thead>\n",
       "    <tr style=\"text-align: right;\">\n",
       "      <th></th>\n",
       "      <th>date_activ</th>\n",
       "      <th>date_end</th>\n",
       "      <th>date_modif_prod</th>\n",
       "      <th>date_renewal</th>\n",
       "    </tr>\n",
       "  </thead>\n",
       "  <tbody>\n",
       "    <tr>\n",
       "      <th>0</th>\n",
       "      <td>2012-11-07</td>\n",
       "      <td>2016-11-06</td>\n",
       "      <td>2012-11-07</td>\n",
       "      <td>2015-11-09</td>\n",
       "    </tr>\n",
       "    <tr>\n",
       "      <th>1</th>\n",
       "      <td>2013-06-15</td>\n",
       "      <td>2016-06-15</td>\n",
       "      <td>2013-06-15</td>\n",
       "      <td>2015-06-23</td>\n",
       "    </tr>\n",
       "    <tr>\n",
       "      <th>2</th>\n",
       "      <td>2009-08-21</td>\n",
       "      <td>2016-08-30</td>\n",
       "      <td>2009-08-21</td>\n",
       "      <td>2015-08-31</td>\n",
       "    </tr>\n",
       "    <tr>\n",
       "      <th>3</th>\n",
       "      <td>2010-04-16</td>\n",
       "      <td>2016-04-16</td>\n",
       "      <td>2010-04-16</td>\n",
       "      <td>2015-04-17</td>\n",
       "    </tr>\n",
       "    <tr>\n",
       "      <th>4</th>\n",
       "      <td>2010-03-30</td>\n",
       "      <td>2016-03-30</td>\n",
       "      <td>2010-03-30</td>\n",
       "      <td>2015-03-31</td>\n",
       "    </tr>\n",
       "  </tbody>\n",
       "</table>\n",
       "</div>"
      ],
      "text/plain": [
       "   date_activ    date_end date_modif_prod date_renewal\n",
       "0  2012-11-07  2016-11-06      2012-11-07   2015-11-09\n",
       "1  2013-06-15  2016-06-15      2013-06-15   2015-06-23\n",
       "2  2009-08-21  2016-08-30      2009-08-21   2015-08-31\n",
       "3  2010-04-16  2016-04-16      2010-04-16   2015-04-17\n",
       "4  2010-03-30  2016-03-30      2010-03-30   2015-03-31"
      ]
     },
     "execution_count": 199,
     "metadata": {},
     "output_type": "execute_result"
    }
   ],
   "source": [
    "data[['date_activ','date_end','date_modif_prod','date_renewal']].head()"
   ]
  },
  {
   "cell_type": "code",
   "execution_count": 200,
   "metadata": {},
   "outputs": [
    {
     "data": {
      "text/plain": [
       "(16092, 4)"
      ]
     },
     "execution_count": 200,
     "metadata": {},
     "output_type": "execute_result"
    }
   ],
   "source": [
    "data[['date_activ','date_end','date_modif_prod','date_renewal']].shape"
   ]
  },
  {
   "cell_type": "code",
   "execution_count": 201,
   "metadata": {},
   "outputs": [],
   "source": [
    "data['date_activ']=pd.to_datetime(data[ 'date_activ'])\n",
    "data['date_end']=pd.to_datetime(data[ 'date_end'])\n",
    "data['date_modif_prod']=pd.to_datetime(data[ 'date_modif_prod'])\n",
    "data['date_renewal']=pd.to_datetime(data[ 'date_renewal'])"
   ]
  },
  {
   "cell_type": "code",
   "execution_count": 202,
   "metadata": {},
   "outputs": [],
   "source": [
    "# tenure = date end -date active"
   ]
  },
  {
   "cell_type": "code",
   "execution_count": 203,
   "metadata": {},
   "outputs": [
    {
     "data": {
      "text/plain": [
       "0    47\n",
       "1    36\n",
       "2    84\n",
       "3    72\n",
       "4    72\n",
       "dtype: int32"
      ]
     },
     "execution_count": 203,
     "metadata": {},
     "output_type": "execute_result"
    }
   ],
   "source": [
    "tenure=((data['date_end']-data['date_activ'])/np.timedelta64(1, \"M\")).astype('int')\n",
    "tenure.head()"
   ]
  },
  {
   "cell_type": "code",
   "execution_count": 204,
   "metadata": {},
   "outputs": [],
   "source": [
    "modif=(data['date_modif_prod']-data['date_activ'])/np.timedelta64(1,'M')# months from active modified\n",
    "renewal=(data['date_renewal']-data['date_activ'])/np.timedelta64(1,'M')# months from active renewed"
   ]
  },
  {
   "cell_type": "code",
   "execution_count": 205,
   "metadata": {},
   "outputs": [],
   "source": [
    "data['renewal']=renewal\n",
    "data['modif']=modif\n",
    "data['tenure']=tenure\n",
    "data=data.drop(['date_activ','date_end','date_modif_prod','date_renewal'],axis=1)"
   ]
  },
  {
   "cell_type": "code",
   "execution_count": 206,
   "metadata": {},
   "outputs": [
    {
     "data": {
      "text/plain": [
       "renewal    1.242092\n",
       "modif      1.033414\n",
       "tenure     1.267130\n",
       "dtype: float64"
      ]
     },
     "execution_count": 206,
     "metadata": {},
     "output_type": "execute_result"
    }
   ],
   "source": [
    "data[['renewal','modif','tenure']].skew()"
   ]
  },
  {
   "cell_type": "code",
   "execution_count": 207,
   "metadata": {},
   "outputs": [
    {
     "data": {
      "text/plain": [
       "renewal    0.294775\n",
       "modif      0.176133\n",
       "tenure     0.477978\n",
       "dtype: float64"
      ]
     },
     "execution_count": 207,
     "metadata": {},
     "output_type": "execute_result"
    }
   ],
   "source": [
    "np.cbrt(data[['renewal','modif','tenure']]).skew()"
   ]
  },
  {
   "cell_type": "code",
   "execution_count": 208,
   "metadata": {},
   "outputs": [],
   "source": [
    "data[['renewal','modif','tenure']]=np.cbrt(data[['renewal','modif','tenure']])"
   ]
  },
  {
   "cell_type": "code",
   "execution_count": 209,
   "metadata": {},
   "outputs": [
    {
     "data": {
      "text/html": [
       "<div>\n",
       "<style scoped>\n",
       "    .dataframe tbody tr th:only-of-type {\n",
       "        vertical-align: middle;\n",
       "    }\n",
       "\n",
       "    .dataframe tbody tr th {\n",
       "        vertical-align: top;\n",
       "    }\n",
       "\n",
       "    .dataframe thead th {\n",
       "        text-align: right;\n",
       "    }\n",
       "</style>\n",
       "<table border=\"1\" class=\"dataframe\">\n",
       "  <thead>\n",
       "    <tr style=\"text-align: right;\">\n",
       "      <th></th>\n",
       "      <th>activity_new</th>\n",
       "      <th>channel_sales</th>\n",
       "      <th>has_gas</th>\n",
       "      <th>origin_up</th>\n",
       "      <th>cons_gas_12m</th>\n",
       "      <th>forecast_discount_energy</th>\n",
       "      <th>forecast_meter_rent_12m</th>\n",
       "      <th>forecast_price_pow_p1</th>\n",
       "      <th>imp_cons</th>\n",
       "      <th>nb_prod_act</th>\n",
       "      <th>...</th>\n",
       "      <th>pow_max</th>\n",
       "      <th>churn</th>\n",
       "      <th>agg_margin</th>\n",
       "      <th>agg_cons</th>\n",
       "      <th>price_p1_var</th>\n",
       "      <th>price_p2_var</th>\n",
       "      <th>price_p1_fix</th>\n",
       "      <th>renewal</th>\n",
       "      <th>modif</th>\n",
       "      <th>tenure</th>\n",
       "    </tr>\n",
       "  </thead>\n",
       "  <tbody>\n",
       "    <tr>\n",
       "      <th>0</th>\n",
       "      <td>esoiiifxdlbkcsluxmfuacbdckommixw</td>\n",
       "      <td>lmkebamcaaclubfxadlmueccxoimlema</td>\n",
       "      <td>f</td>\n",
       "      <td>ldkssxwpmemidmecebumciepifcamkci</td>\n",
       "      <td>0.000000</td>\n",
       "      <td>0.0</td>\n",
       "      <td>7.109107</td>\n",
       "      <td>58.995952</td>\n",
       "      <td>9.404585</td>\n",
       "      <td>0.000000</td>\n",
       "      <td>...</td>\n",
       "      <td>5.192957</td>\n",
       "      <td>0</td>\n",
       "      <td>-41.76</td>\n",
       "      <td>54.248738</td>\n",
       "      <td>0.103449</td>\n",
       "      <td>0.092115</td>\n",
       "      <td>58.956502</td>\n",
       "      <td>3.303205</td>\n",
       "      <td>0.0</td>\n",
       "      <td>3.608826</td>\n",
       "    </tr>\n",
       "    <tr>\n",
       "      <th>1</th>\n",
       "      <td>Unknown</td>\n",
       "      <td>foosdfpfkusacimwkcsosbicdxkicaua</td>\n",
       "      <td>t</td>\n",
       "      <td>lxidpiddsbxsbosboudacockeimpuepw</td>\n",
       "      <td>38.017075</td>\n",
       "      <td>0.0</td>\n",
       "      <td>1.211918</td>\n",
       "      <td>40.606701</td>\n",
       "      <td>0.000000</td>\n",
       "      <td>0.693147</td>\n",
       "      <td>...</td>\n",
       "      <td>3.776157</td>\n",
       "      <td>1</td>\n",
       "      <td>25.44</td>\n",
       "      <td>0.000000</td>\n",
       "      <td>0.122856</td>\n",
       "      <td>0.102137</td>\n",
       "      <td>40.640023</td>\n",
       "      <td>2.894357</td>\n",
       "      <td>0.0</td>\n",
       "      <td>3.301927</td>\n",
       "    </tr>\n",
       "    <tr>\n",
       "      <th>2</th>\n",
       "      <td>Unknown</td>\n",
       "      <td>Unknown</td>\n",
       "      <td>f</td>\n",
       "      <td>kamkkxfxxuwbdslkwifmmcsiusiuosws</td>\n",
       "      <td>0.000000</td>\n",
       "      <td>0.0</td>\n",
       "      <td>2.533937</td>\n",
       "      <td>44.311378</td>\n",
       "      <td>0.000000</td>\n",
       "      <td>0.000000</td>\n",
       "      <td>...</td>\n",
       "      <td>2.624669</td>\n",
       "      <td>0</td>\n",
       "      <td>16.38</td>\n",
       "      <td>13.257205</td>\n",
       "      <td>0.149934</td>\n",
       "      <td>0.000000</td>\n",
       "      <td>44.315416</td>\n",
       "      <td>4.166199</td>\n",
       "      <td>0.0</td>\n",
       "      <td>4.379519</td>\n",
       "    </tr>\n",
       "    <tr>\n",
       "      <th>3</th>\n",
       "      <td>Unknown</td>\n",
       "      <td>foosdfpfkusacimwkcsosbicdxkicaua</td>\n",
       "      <td>f</td>\n",
       "      <td>kamkkxfxxuwbdslkwifmmcsiusiuosws</td>\n",
       "      <td>0.000000</td>\n",
       "      <td>0.0</td>\n",
       "      <td>3.383076</td>\n",
       "      <td>44.311378</td>\n",
       "      <td>0.000000</td>\n",
       "      <td>0.000000</td>\n",
       "      <td>...</td>\n",
       "      <td>2.628718</td>\n",
       "      <td>0</td>\n",
       "      <td>28.60</td>\n",
       "      <td>6.479224</td>\n",
       "      <td>0.170512</td>\n",
       "      <td>0.088421</td>\n",
       "      <td>44.385450</td>\n",
       "      <td>3.915430</td>\n",
       "      <td>0.0</td>\n",
       "      <td>4.160168</td>\n",
       "    </tr>\n",
       "    <tr>\n",
       "      <th>4</th>\n",
       "      <td>Unknown</td>\n",
       "      <td>lmkebamcaaclubfxadlmueccxoimlema</td>\n",
       "      <td>f</td>\n",
       "      <td>kamkkxfxxuwbdslkwifmmcsiusiuosws</td>\n",
       "      <td>0.000000</td>\n",
       "      <td>0.0</td>\n",
       "      <td>2.706705</td>\n",
       "      <td>44.311378</td>\n",
       "      <td>0.000000</td>\n",
       "      <td>0.000000</td>\n",
       "      <td>...</td>\n",
       "      <td>2.580217</td>\n",
       "      <td>0</td>\n",
       "      <td>30.22</td>\n",
       "      <td>9.252130</td>\n",
       "      <td>0.151210</td>\n",
       "      <td>0.000000</td>\n",
       "      <td>44.400265</td>\n",
       "      <td>3.915430</td>\n",
       "      <td>0.0</td>\n",
       "      <td>4.160168</td>\n",
       "    </tr>\n",
       "  </tbody>\n",
       "</table>\n",
       "<p>5 rows × 22 columns</p>\n",
       "</div>"
      ],
      "text/plain": [
       "                       activity_new                     channel_sales has_gas  \\\n",
       "0  esoiiifxdlbkcsluxmfuacbdckommixw  lmkebamcaaclubfxadlmueccxoimlema       f   \n",
       "1                           Unknown  foosdfpfkusacimwkcsosbicdxkicaua       t   \n",
       "2                           Unknown                           Unknown       f   \n",
       "3                           Unknown  foosdfpfkusacimwkcsosbicdxkicaua       f   \n",
       "4                           Unknown  lmkebamcaaclubfxadlmueccxoimlema       f   \n",
       "\n",
       "                          origin_up  cons_gas_12m  forecast_discount_energy  \\\n",
       "0  ldkssxwpmemidmecebumciepifcamkci      0.000000                       0.0   \n",
       "1  lxidpiddsbxsbosboudacockeimpuepw     38.017075                       0.0   \n",
       "2  kamkkxfxxuwbdslkwifmmcsiusiuosws      0.000000                       0.0   \n",
       "3  kamkkxfxxuwbdslkwifmmcsiusiuosws      0.000000                       0.0   \n",
       "4  kamkkxfxxuwbdslkwifmmcsiusiuosws      0.000000                       0.0   \n",
       "\n",
       "   forecast_meter_rent_12m  forecast_price_pow_p1  imp_cons  nb_prod_act  ...  \\\n",
       "0                 7.109107              58.995952  9.404585     0.000000  ...   \n",
       "1                 1.211918              40.606701  0.000000     0.693147  ...   \n",
       "2                 2.533937              44.311378  0.000000     0.000000  ...   \n",
       "3                 3.383076              44.311378  0.000000     0.000000  ...   \n",
       "4                 2.706705              44.311378  0.000000     0.000000  ...   \n",
       "\n",
       "    pow_max  churn  agg_margin   agg_cons  price_p1_var  price_p2_var  \\\n",
       "0  5.192957      0      -41.76  54.248738      0.103449      0.092115   \n",
       "1  3.776157      1       25.44   0.000000      0.122856      0.102137   \n",
       "2  2.624669      0       16.38  13.257205      0.149934      0.000000   \n",
       "3  2.628718      0       28.60   6.479224      0.170512      0.088421   \n",
       "4  2.580217      0       30.22   9.252130      0.151210      0.000000   \n",
       "\n",
       "   price_p1_fix   renewal  modif    tenure  \n",
       "0     58.956502  3.303205    0.0  3.608826  \n",
       "1     40.640023  2.894357    0.0  3.301927  \n",
       "2     44.315416  4.166199    0.0  4.379519  \n",
       "3     44.385450  3.915430    0.0  4.160168  \n",
       "4     44.400265  3.915430    0.0  4.160168  \n",
       "\n",
       "[5 rows x 22 columns]"
      ]
     },
     "execution_count": 209,
     "metadata": {},
     "output_type": "execute_result"
    }
   ],
   "source": [
    "data.head()"
   ]
  },
  {
   "cell_type": "code",
   "execution_count": 210,
   "metadata": {},
   "outputs": [
    {
     "name": "stdout",
     "output_type": "stream",
     "text": [
      "<class 'pandas.core.frame.DataFrame'>\n",
      "RangeIndex: 16092 entries, 0 to 16091\n",
      "Data columns (total 22 columns):\n",
      " #   Column                    Non-Null Count  Dtype  \n",
      "---  ------                    --------------  -----  \n",
      " 0   activity_new              16092 non-null  object \n",
      " 1   channel_sales             16092 non-null  object \n",
      " 2   has_gas                   16092 non-null  object \n",
      " 3   origin_up                 16092 non-null  object \n",
      " 4   cons_gas_12m              16092 non-null  float64\n",
      " 5   forecast_discount_energy  16092 non-null  float64\n",
      " 6   forecast_meter_rent_12m   16092 non-null  float64\n",
      " 7   forecast_price_pow_p1     16092 non-null  float64\n",
      " 8   imp_cons                  16092 non-null  float64\n",
      " 9   nb_prod_act               16092 non-null  float64\n",
      " 10  net_margin                16092 non-null  float64\n",
      " 11  num_years_antig           16092 non-null  float64\n",
      " 12  pow_max                   16092 non-null  float64\n",
      " 13  churn                     16092 non-null  int64  \n",
      " 14  agg_margin                16092 non-null  float64\n",
      " 15  agg_cons                  16092 non-null  float64\n",
      " 16  price_p1_var              16092 non-null  float64\n",
      " 17  price_p2_var              16092 non-null  float64\n",
      " 18  price_p1_fix              16092 non-null  float64\n",
      " 19  renewal                   16092 non-null  float64\n",
      " 20  modif                     16092 non-null  float64\n",
      " 21  tenure                    16092 non-null  float64\n",
      "dtypes: float64(17), int64(1), object(4)\n",
      "memory usage: 2.7+ MB\n"
     ]
    }
   ],
   "source": [
    "data.info()"
   ]
  },
  {
   "cell_type": "code",
   "execution_count": null,
   "metadata": {},
   "outputs": [],
   "source": []
  },
  {
   "cell_type": "code",
   "execution_count": null,
   "metadata": {},
   "outputs": [],
   "source": []
  },
  {
   "cell_type": "code",
   "execution_count": 302,
   "metadata": {},
   "outputs": [
    {
     "data": {
      "text/plain": [
       "(16092, 18)"
      ]
     },
     "execution_count": 302,
     "metadata": {},
     "output_type": "execute_result"
    }
   ],
   "source": [
    "num=data.select_dtypes(include=np.number)\n",
    "num.shape"
   ]
  },
  {
   "cell_type": "code",
   "execution_count": 303,
   "metadata": {},
   "outputs": [
    {
     "data": {
      "text/plain": [
       "Index(['cons_gas_12m', 'forecast_discount_energy', 'forecast_meter_rent_12m',\n",
       "       'forecast_price_pow_p1', 'imp_cons', 'nb_prod_act', 'net_margin',\n",
       "       'num_years_antig', 'pow_max', 'churn', 'agg_margin', 'agg_cons',\n",
       "       'price_p1_var', 'price_p2_var', 'price_p1_fix', 'renewal', 'modif',\n",
       "       'tenure'],\n",
       "      dtype='object')"
      ]
     },
     "execution_count": 303,
     "metadata": {},
     "output_type": "execute_result"
    }
   ],
   "source": [
    "num.columns"
   ]
  },
  {
   "cell_type": "code",
   "execution_count": 304,
   "metadata": {},
   "outputs": [],
   "source": [
    "import statsmodels.api as sm\n",
    "from sklearn.preprocessing import StandardScaler\n",
    "sc=StandardScaler()\n",
    "from sklearn import metrics\n",
    "from mlxtend.feature_selection import SequentialFeatureSelector"
   ]
  },
  {
   "cell_type": "code",
   "execution_count": 305,
   "metadata": {},
   "outputs": [],
   "source": [
    "cat=data.select_dtypes(include='object')\n",
    "num=num.drop('churn',axis=1)\n",
    "#dropping the activity new column  for having too many uniques"
   ]
  },
  {
   "cell_type": "code",
   "execution_count": 306,
   "metadata": {},
   "outputs": [
    {
     "data": {
      "text/plain": [
       "((16092, 13), (16092, 17))"
      ]
     },
     "execution_count": 306,
     "metadata": {},
     "output_type": "execute_result"
    }
   ],
   "source": [
    "cat_dum=pd.get_dummies(cat.drop('activity_new',axis=1),drop_first=True).reset_index(drop=True)\n",
    "cat_dum.shape,num.shape"
   ]
  },
  {
   "cell_type": "code",
   "execution_count": 307,
   "metadata": {},
   "outputs": [],
   "source": [
    "num_sc=pd.DataFrame(sc.fit_transform(num),columns=num.columns).reset_index(drop=True)\n",
    "X=pd.concat([cat_dum,num_sc],axis=1)\n",
    "Xc=sm.add_constant(X)\n",
    "y=target"
   ]
  },
  {
   "cell_type": "code",
   "execution_count": 308,
   "metadata": {},
   "outputs": [
    {
     "data": {
      "text/plain": [
       "((16092, 31), (16092, 13), (16092, 17), (16092,))"
      ]
     },
     "execution_count": 308,
     "metadata": {},
     "output_type": "execute_result"
    }
   ],
   "source": [
    "Xc.shape,cat_dum.shape,num_sc.shape,y.shape"
   ]
  },
  {
   "cell_type": "code",
   "execution_count": 309,
   "metadata": {},
   "outputs": [
    {
     "data": {
      "text/plain": [
       "((16092,),)"
      ]
     },
     "execution_count": 309,
     "metadata": {},
     "output_type": "execute_result"
    }
   ],
   "source": [
    "y.shape,"
   ]
  },
  {
   "cell_type": "raw",
   "metadata": {},
   "source": [
    "m=sm.Logit(y,Xc).fit()"
   ]
  },
  {
   "cell_type": "code",
   "execution_count": 310,
   "metadata": {},
   "outputs": [],
   "source": [
    "from sklearn.linear_model import LogisticRegression\n",
    "from sklearn.model_selection import train_test_split"
   ]
  },
  {
   "cell_type": "code",
   "execution_count": 311,
   "metadata": {},
   "outputs": [],
   "source": [
    "X_train0, X_test0, y_train0, y_test0 = train_test_split(X, y, test_size=0.2, random_state=42)"
   ]
  },
  {
   "cell_type": "code",
   "execution_count": 312,
   "metadata": {},
   "outputs": [
    {
     "data": {
      "text/plain": [
       "LogisticRegression(max_iter=10000, solver='saga')"
      ]
     },
     "execution_count": 312,
     "metadata": {},
     "output_type": "execute_result"
    }
   ],
   "source": [
    "logr=LogisticRegression(solver='saga',max_iter=10000)\n",
    "logr.fit(X_train0,y_train0)"
   ]
  },
  {
   "cell_type": "code",
   "execution_count": 313,
   "metadata": {},
   "outputs": [
    {
     "name": "stdout",
     "output_type": "stream",
     "text": [
      "              precision    recall  f1-score   support\n",
      "\n",
      "           0       0.90      1.00      0.95      2897\n",
      "           1       0.29      0.01      0.01       322\n",
      "\n",
      "    accuracy                           0.90      3219\n",
      "   macro avg       0.59      0.50      0.48      3219\n",
      "weighted avg       0.84      0.90      0.85      3219\n",
      "\n",
      "ROC SCORE: 0.6368228430781898\n",
      "F1 : 0.0121580547112462\n"
     ]
    },
    {
     "data": {
      "text/plain": [
       "array([[2892,    5],\n",
       "       [ 320,    2]], dtype=int64)"
      ]
     },
     "execution_count": 313,
     "metadata": {},
     "output_type": "execute_result"
    }
   ],
   "source": [
    "y_pred_test=logr.predict(X_test0)\n",
    "print(metrics.classification_report(y_test0,y_pred_test))\n",
    "print('ROC SCORE:',metrics.roc_auc_score(y_test0,logr.predict_proba(X_test0)[:,1]))\n",
    "print('F1 :', metrics.f1_score(y_test0,y_pred_test))\n",
    "metrics.confusion_matrix(y_test0,y_pred_test)"
   ]
  },
  {
   "cell_type": "code",
   "execution_count": null,
   "metadata": {},
   "outputs": [],
   "source": []
  },
  {
   "cell_type": "code",
   "execution_count": 293,
   "metadata": {},
   "outputs": [
    {
     "ename": "NameError",
     "evalue": "name 'asfsdf' is not defined",
     "output_type": "error",
     "traceback": [
      "\u001b[1;31m---------------------------------------------------------------------------\u001b[0m",
      "\u001b[1;31mNameError\u001b[0m                                 Traceback (most recent call last)",
      "\u001b[1;32m<ipython-input-293-26380cb3beb3>\u001b[0m in \u001b[0;36m<module>\u001b[1;34m\u001b[0m\n\u001b[1;32m----> 1\u001b[1;33m \u001b[0masfsdf\u001b[0m\u001b[1;33m\u001b[0m\u001b[1;33m\u001b[0m\u001b[0m\n\u001b[0m",
      "\u001b[1;31mNameError\u001b[0m: name 'asfsdf' is not defined"
     ]
    }
   ],
   "source": [
    "asfsdf"
   ]
  },
  {
   "cell_type": "code",
   "execution_count": null,
   "metadata": {},
   "outputs": [],
   "source": []
  },
  {
   "cell_type": "code",
   "execution_count": 132,
   "metadata": {},
   "outputs": [
    {
     "name": "stderr",
     "output_type": "stream",
     "text": [
      "[Parallel(n_jobs=-1)]: Using backend LokyBackend with 4 concurrent workers.\n",
      "[Parallel(n_jobs=-1)]: Done  24 tasks      | elapsed:    7.1s\n",
      "[Parallel(n_jobs=-1)]: Done  34 out of  34 | elapsed:    7.4s finished\n",
      "\n",
      "[2021-07-19 01:53:22] Features: 1/34 -- score: 0.9011885341412258[Parallel(n_jobs=-1)]: Using backend LokyBackend with 4 concurrent workers.\n",
      "[Parallel(n_jobs=-1)]: Done  26 out of  33 | elapsed:    0.8s remaining:    0.1s\n",
      "[Parallel(n_jobs=-1)]: Done  33 out of  33 | elapsed:    0.8s finished\n",
      "\n",
      "[2021-07-19 01:53:23] Features: 2/34 -- score: 0.9011885341412258[Parallel(n_jobs=-1)]: Using backend LokyBackend with 4 concurrent workers.\n",
      "[Parallel(n_jobs=-1)]: Done  32 out of  32 | elapsed:    6.7s finished\n",
      "\n",
      "[2021-07-19 01:53:29] Features: 3/34 -- score: 0.9011885341412258[Parallel(n_jobs=-1)]: Using backend LokyBackend with 4 concurrent workers.\n",
      "[Parallel(n_jobs=-1)]: Done  24 tasks      | elapsed:    6.3s\n",
      "[Parallel(n_jobs=-1)]: Done  31 out of  31 | elapsed:    9.2s finished\n",
      "\n",
      "[2021-07-19 01:53:39] Features: 4/34 -- score: 0.9011885341412258[Parallel(n_jobs=-1)]: Using backend LokyBackend with 4 concurrent workers.\n",
      "[Parallel(n_jobs=-1)]: Done  30 out of  30 | elapsed:    9.9s finished\n",
      "\n",
      "[2021-07-19 01:53:49] Features: 5/34 -- score: 0.9011885341412258[Parallel(n_jobs=-1)]: Using backend LokyBackend with 4 concurrent workers.\n",
      "[Parallel(n_jobs=-1)]: Done  29 out of  29 | elapsed:    9.4s finished\n",
      "\n",
      "[2021-07-19 01:53:58] Features: 6/34 -- score: 0.9011885341412258[Parallel(n_jobs=-1)]: Using backend LokyBackend with 4 concurrent workers.\n",
      "[Parallel(n_jobs=-1)]: Done  28 out of  28 | elapsed:    9.9s finished\n",
      "\n",
      "[2021-07-19 01:54:08] Features: 7/34 -- score: 0.9011885341412258[Parallel(n_jobs=-1)]: Using backend LokyBackend with 4 concurrent workers.\n",
      "[Parallel(n_jobs=-1)]: Done  27 out of  27 | elapsed:   11.4s finished\n",
      "\n",
      "[2021-07-19 01:54:20] Features: 8/34 -- score: 0.9011885341412258[Parallel(n_jobs=-1)]: Using backend LokyBackend with 4 concurrent workers.\n",
      "[Parallel(n_jobs=-1)]: Done  26 out of  26 | elapsed:   17.2s finished\n",
      "\n",
      "[2021-07-19 01:54:37] Features: 9/34 -- score: 0.9011885341412258[Parallel(n_jobs=-1)]: Using backend LokyBackend with 4 concurrent workers.\n",
      "[Parallel(n_jobs=-1)]: Done  25 out of  25 | elapsed:   18.3s finished\n",
      "\n",
      "[2021-07-19 01:54:55] Features: 10/34 -- score: 0.9011885341412258[Parallel(n_jobs=-1)]: Using backend LokyBackend with 4 concurrent workers.\n",
      "[Parallel(n_jobs=-1)]: Done  24 out of  24 | elapsed:   27.7s finished\n",
      "\n",
      "[2021-07-19 01:55:23] Features: 11/34 -- score: 0.9011885341412258[Parallel(n_jobs=-1)]: Using backend LokyBackend with 4 concurrent workers.\n",
      "[Parallel(n_jobs=-1)]: Done  23 out of  23 | elapsed:   29.2s finished\n",
      "\n",
      "[2021-07-19 01:55:53] Features: 12/34 -- score: 0.9011885341412258[Parallel(n_jobs=-1)]: Using backend LokyBackend with 4 concurrent workers.\n",
      "[Parallel(n_jobs=-1)]: Done  22 out of  22 | elapsed:   31.2s finished\n",
      "\n",
      "[2021-07-19 01:56:24] Features: 13/34 -- score: 0.9011885341412258[Parallel(n_jobs=-1)]: Using backend LokyBackend with 4 concurrent workers.\n",
      "[Parallel(n_jobs=-1)]: Done  21 out of  21 | elapsed:   32.1s finished\n",
      "\n",
      "[2021-07-19 01:56:57] Features: 14/34 -- score: 0.9011885341412258[Parallel(n_jobs=-1)]: Using backend LokyBackend with 4 concurrent workers.\n",
      "[Parallel(n_jobs=-1)]: Done  20 out of  20 | elapsed:   29.5s remaining:    0.0s\n",
      "[Parallel(n_jobs=-1)]: Done  20 out of  20 | elapsed:   29.5s finished\n",
      "\n",
      "[2021-07-19 01:57:26] Features: 15/34 -- score: 0.9011885341412258[Parallel(n_jobs=-1)]: Using backend LokyBackend with 4 concurrent workers.\n",
      "[Parallel(n_jobs=-1)]: Done  19 out of  19 | elapsed:   38.3s remaining:    0.0s\n",
      "[Parallel(n_jobs=-1)]: Done  19 out of  19 | elapsed:   38.3s finished\n",
      "\n",
      "[2021-07-19 01:58:05] Features: 16/34 -- score: 0.9011885341412258[Parallel(n_jobs=-1)]: Using backend LokyBackend with 4 concurrent workers.\n",
      "[Parallel(n_jobs=-1)]: Done  18 out of  18 | elapsed:   45.6s remaining:    0.0s\n",
      "[Parallel(n_jobs=-1)]: Done  18 out of  18 | elapsed:   45.6s finished\n",
      "\n",
      "[2021-07-19 01:58:51] Features: 17/34 -- score: 0.9011885341412258[Parallel(n_jobs=-1)]: Using backend LokyBackend with 4 concurrent workers.\n",
      "[Parallel(n_jobs=-1)]: Done  17 out of  17 | elapsed:   45.7s finished\n",
      "\n",
      "[2021-07-19 01:59:36] Features: 18/34 -- score: 0.9011885341412258[Parallel(n_jobs=-1)]: Using backend LokyBackend with 4 concurrent workers.\n",
      "[Parallel(n_jobs=-1)]: Done  16 out of  16 | elapsed:   48.2s finished\n",
      "\n",
      "[2021-07-19 02:00:25] Features: 19/34 -- score: 0.9011885341412258[Parallel(n_jobs=-1)]: Using backend LokyBackend with 4 concurrent workers.\n",
      "[Parallel(n_jobs=-1)]: Done  15 out of  15 | elapsed:   50.6s finished\n",
      "\n",
      "[2021-07-19 02:01:16] Features: 20/34 -- score: 0.9011885341412258[Parallel(n_jobs=-1)]: Using backend LokyBackend with 4 concurrent workers.\n",
      "[Parallel(n_jobs=-1)]: Done  12 out of  14 | elapsed:   42.8s remaining:    7.0s\n",
      "[Parallel(n_jobs=-1)]: Done  14 out of  14 | elapsed:   45.6s finished\n",
      "\n",
      "[2021-07-19 02:02:01] Features: 21/34 -- score: 0.9011885341412258[Parallel(n_jobs=-1)]: Using backend LokyBackend with 4 concurrent workers.\n",
      "[Parallel(n_jobs=-1)]: Done  11 out of  13 | elapsed:   42.9s remaining:    7.7s\n",
      "[Parallel(n_jobs=-1)]: Done  13 out of  13 | elapsed:   48.9s finished\n",
      "\n",
      "[2021-07-19 02:02:51] Features: 22/34 -- score: 0.9011885341412258[Parallel(n_jobs=-1)]: Using backend LokyBackend with 4 concurrent workers.\n",
      "[Parallel(n_jobs=-1)]: Done  10 out of  12 | elapsed:   53.2s remaining:   10.6s\n",
      "[Parallel(n_jobs=-1)]: Done  12 out of  12 | elapsed:  1.1min finished\n",
      "\n",
      "[2021-07-19 02:03:56] Features: 23/34 -- score: 0.9011885341412258[Parallel(n_jobs=-1)]: Using backend LokyBackend with 4 concurrent workers.\n",
      "[Parallel(n_jobs=-1)]: Done   8 out of  11 | elapsed:   37.6s remaining:   14.1s\n",
      "[Parallel(n_jobs=-1)]: Done  11 out of  11 | elapsed:   51.1s finished\n",
      "\n",
      "[2021-07-19 02:04:48] Features: 24/34 -- score: 0.9011885341412258[Parallel(n_jobs=-1)]: Using backend LokyBackend with 4 concurrent workers.\n",
      "[Parallel(n_jobs=-1)]: Done   7 out of  10 | elapsed:   41.6s remaining:   17.8s\n",
      "[Parallel(n_jobs=-1)]: Done  10 out of  10 | elapsed:   50.3s finished\n",
      "\n",
      "[2021-07-19 02:05:38] Features: 25/34 -- score: 0.9011885341412258[Parallel(n_jobs=-1)]: Using backend LokyBackend with 4 concurrent workers.\n",
      "[Parallel(n_jobs=-1)]: Done   6 out of   9 | elapsed:   36.6s remaining:   18.2s\n",
      "[Parallel(n_jobs=-1)]: Done   9 out of   9 | elapsed:   54.0s finished\n",
      "\n",
      "[2021-07-19 02:06:32] Features: 26/34 -- score: 0.9011885341412258[Parallel(n_jobs=-1)]: Using backend LokyBackend with 4 concurrent workers.\n",
      "[Parallel(n_jobs=-1)]: Done   4 out of   8 | elapsed:   36.6s remaining:   36.6s\n",
      "[Parallel(n_jobs=-1)]: Done   8 out of   8 | elapsed:   52.0s finished\n",
      "\n",
      "[2021-07-19 02:07:25] Features: 27/34 -- score: 0.9011885341412258[Parallel(n_jobs=-1)]: Using backend LokyBackend with 4 concurrent workers.\n",
      "[Parallel(n_jobs=-1)]: Done   3 out of   7 | elapsed:   22.8s remaining:   30.5s\n",
      "[Parallel(n_jobs=-1)]: Done   7 out of   7 | elapsed:   47.5s finished\n",
      "\n",
      "[2021-07-19 02:08:12] Features: 28/34 -- score: 0.9011885341412258[Parallel(n_jobs=-1)]: Using backend LokyBackend with 4 concurrent workers.\n",
      "[Parallel(n_jobs=-1)]: Done   2 out of   6 | elapsed:   26.5s remaining:   53.2s\n",
      "[Parallel(n_jobs=-1)]: Done   6 out of   6 | elapsed:   58.1s finished\n",
      "\n",
      "[2021-07-19 02:09:11] Features: 29/34 -- score: 0.9011885341412258[Parallel(n_jobs=-1)]: Using backend LokyBackend with 4 concurrent workers.\n",
      "[Parallel(n_jobs=-1)]: Done   2 out of   5 | elapsed:   34.8s remaining:   52.3s\n",
      "[Parallel(n_jobs=-1)]: Done   5 out of   5 | elapsed:   55.3s finished\n",
      "\n",
      "[2021-07-19 02:10:06] Features: 30/34 -- score: 0.9011885341412258[Parallel(n_jobs=-1)]: Using backend LokyBackend with 4 concurrent workers.\n",
      "[Parallel(n_jobs=-1)]: Done   4 out of   4 | elapsed:  1.2min finished\n",
      "\n",
      "[2021-07-19 02:11:21] Features: 31/34 -- score: 0.9011885341412258[Parallel(n_jobs=-1)]: Using backend LokyBackend with 4 concurrent workers.\n",
      "[Parallel(n_jobs=-1)]: Done   3 out of   3 | elapsed:  1.1min finished\n",
      "\n",
      "[2021-07-19 02:12:29] Features: 32/34 -- score: 0.9011885341412258[Parallel(n_jobs=-1)]: Using backend LokyBackend with 4 concurrent workers.\n",
      "[Parallel(n_jobs=-1)]: Done   2 out of   2 | elapsed:  1.6min remaining:    0.0s\n",
      "[Parallel(n_jobs=-1)]: Done   2 out of   2 | elapsed:  1.6min finished\n",
      "\n",
      "[2021-07-19 02:14:03] Features: 33/34 -- score: 0.9011885341412258[Parallel(n_jobs=-1)]: Using backend LokyBackend with 4 concurrent workers.\n"
     ]
    },
    {
     "name": "stderr",
     "output_type": "stream",
     "text": [
      "[Parallel(n_jobs=-1)]: Done   1 out of   1 | elapsed:  2.1min finished\n",
      "\n",
      "[2021-07-19 02:16:06] Features: 34/34 -- score: 0.9007224423211372"
     ]
    },
    {
     "data": {
      "text/plain": [
       "SequentialFeatureSelector(cv=3,\n",
       "                          estimator=LogisticRegression(max_iter=10000,\n",
       "                                                       solver='saga'),\n",
       "                          k_features='best', n_jobs=-1, verbose=3)"
      ]
     },
     "execution_count": 132,
     "metadata": {},
     "output_type": "execute_result"
    }
   ],
   "source": [
    "#best set of features \n",
    "logr=LogisticRegression(penalty='l2',max_iter=10000,solver='saga')\n",
    "sfs=SequentialFeatureSelector(estimator=logr,k_features='best',forward=True,n_jobs=-1,cv=3,verbose=3)\n",
    "sfs.fit(X_train0,y_train0)"
   ]
  },
  {
   "cell_type": "code",
   "execution_count": 133,
   "metadata": {},
   "outputs": [
    {
     "data": {
      "text/plain": [
       "('channel_sales_Unknown',)"
      ]
     },
     "execution_count": 133,
     "metadata": {},
     "output_type": "execute_result"
    }
   ],
   "source": [
    "sfs.k_feature_names_"
   ]
  },
  {
   "cell_type": "code",
   "execution_count": null,
   "metadata": {},
   "outputs": [],
   "source": [
    "from sklearn.feature_selection import RFE\n",
    "rec=RFE(estimator=logr, n_features_to_select=15)\n",
    "rec.fit(X,y)"
   ]
  },
  {
   "cell_type": "code",
   "execution_count": 135,
   "metadata": {},
   "outputs": [
    {
     "data": {
      "text/html": [
       "<div>\n",
       "<style scoped>\n",
       "    .dataframe tbody tr th:only-of-type {\n",
       "        vertical-align: middle;\n",
       "    }\n",
       "\n",
       "    .dataframe tbody tr th {\n",
       "        vertical-align: top;\n",
       "    }\n",
       "\n",
       "    .dataframe thead th {\n",
       "        text-align: right;\n",
       "    }\n",
       "</style>\n",
       "<table border=\"1\" class=\"dataframe\">\n",
       "  <thead>\n",
       "    <tr style=\"text-align: right;\">\n",
       "      <th></th>\n",
       "      <th>ranking</th>\n",
       "    </tr>\n",
       "  </thead>\n",
       "  <tbody>\n",
       "    <tr>\n",
       "      <th>channel_sales_Unknown</th>\n",
       "      <td>1</td>\n",
       "    </tr>\n",
       "    <tr>\n",
       "      <th>channel_sales_epumfxlbckeskwekxbiuasklxalciiuu</th>\n",
       "      <td>1</td>\n",
       "    </tr>\n",
       "    <tr>\n",
       "      <th>channel_sales_ewpakwlliwisiwduibdlfmalxowmwpci</th>\n",
       "      <td>1</td>\n",
       "    </tr>\n",
       "    <tr>\n",
       "      <th>channel_sales_fixdbufsefwooaasfcxdxadsiekoceaa</th>\n",
       "      <td>3</td>\n",
       "    </tr>\n",
       "    <tr>\n",
       "      <th>channel_sales_foosdfpfkusacimwkcsosbicdxkicaua</th>\n",
       "      <td>1</td>\n",
       "    </tr>\n",
       "    <tr>\n",
       "      <th>channel_sales_lmkebamcaaclubfxadlmueccxoimlema</th>\n",
       "      <td>15</td>\n",
       "    </tr>\n",
       "    <tr>\n",
       "      <th>channel_sales_sddiedcslfslkckwlfkdpoeeailfpeds</th>\n",
       "      <td>1</td>\n",
       "    </tr>\n",
       "    <tr>\n",
       "      <th>channel_sales_usilxuppasemubllopkaafesmlibmsdf</th>\n",
       "      <td>1</td>\n",
       "    </tr>\n",
       "    <tr>\n",
       "      <th>has_gas_f</th>\n",
       "      <td>18</td>\n",
       "    </tr>\n",
       "    <tr>\n",
       "      <th>has_gas_t</th>\n",
       "      <td>14</td>\n",
       "    </tr>\n",
       "    <tr>\n",
       "      <th>origin_up_Unknown</th>\n",
       "      <td>1</td>\n",
       "    </tr>\n",
       "    <tr>\n",
       "      <th>origin_up_ewxeelcelemmiwuafmddpobolfuxioce</th>\n",
       "      <td>9</td>\n",
       "    </tr>\n",
       "    <tr>\n",
       "      <th>origin_up_kamkkxfxxuwbdslkwifmmcsiusiuosws</th>\n",
       "      <td>1</td>\n",
       "    </tr>\n",
       "    <tr>\n",
       "      <th>origin_up_ldkssxwpmemidmecebumciepifcamkci</th>\n",
       "      <td>1</td>\n",
       "    </tr>\n",
       "    <tr>\n",
       "      <th>origin_up_lxidpiddsbxsbosboudacockeimpuepw</th>\n",
       "      <td>1</td>\n",
       "    </tr>\n",
       "    <tr>\n",
       "      <th>origin_up_usapbepcfoloekilkwsdiboslwaxobdp</th>\n",
       "      <td>1</td>\n",
       "    </tr>\n",
       "    <tr>\n",
       "      <th>cons_gas_12m</th>\n",
       "      <td>1</td>\n",
       "    </tr>\n",
       "    <tr>\n",
       "      <th>forecast_discount_energy</th>\n",
       "      <td>12</td>\n",
       "    </tr>\n",
       "    <tr>\n",
       "      <th>forecast_meter_rent_12m</th>\n",
       "      <td>10</td>\n",
       "    </tr>\n",
       "    <tr>\n",
       "      <th>forecast_price_pow_p1</th>\n",
       "      <td>7</td>\n",
       "    </tr>\n",
       "    <tr>\n",
       "      <th>imp_cons</th>\n",
       "      <td>6</td>\n",
       "    </tr>\n",
       "    <tr>\n",
       "      <th>nb_prod_act</th>\n",
       "      <td>17</td>\n",
       "    </tr>\n",
       "    <tr>\n",
       "      <th>net_margin</th>\n",
       "      <td>2</td>\n",
       "    </tr>\n",
       "    <tr>\n",
       "      <th>num_years_antig</th>\n",
       "      <td>1</td>\n",
       "    </tr>\n",
       "    <tr>\n",
       "      <th>pow_max</th>\n",
       "      <td>11</td>\n",
       "    </tr>\n",
       "    <tr>\n",
       "      <th>agg_margin</th>\n",
       "      <td>1</td>\n",
       "    </tr>\n",
       "    <tr>\n",
       "      <th>agg_cons</th>\n",
       "      <td>1</td>\n",
       "    </tr>\n",
       "    <tr>\n",
       "      <th>agg_forcastprice_p1p2</th>\n",
       "      <td>8</td>\n",
       "    </tr>\n",
       "    <tr>\n",
       "      <th>price_p1_var</th>\n",
       "      <td>16</td>\n",
       "    </tr>\n",
       "    <tr>\n",
       "      <th>price_p2_var</th>\n",
       "      <td>4</td>\n",
       "    </tr>\n",
       "    <tr>\n",
       "      <th>price_p1_fix</th>\n",
       "      <td>5</td>\n",
       "    </tr>\n",
       "    <tr>\n",
       "      <th>renewal</th>\n",
       "      <td>20</td>\n",
       "    </tr>\n",
       "    <tr>\n",
       "      <th>modif</th>\n",
       "      <td>13</td>\n",
       "    </tr>\n",
       "    <tr>\n",
       "      <th>tenure</th>\n",
       "      <td>19</td>\n",
       "    </tr>\n",
       "  </tbody>\n",
       "</table>\n",
       "</div>"
      ],
      "text/plain": [
       "                                                ranking\n",
       "channel_sales_Unknown                                 1\n",
       "channel_sales_epumfxlbckeskwekxbiuasklxalciiuu        1\n",
       "channel_sales_ewpakwlliwisiwduibdlfmalxowmwpci        1\n",
       "channel_sales_fixdbufsefwooaasfcxdxadsiekoceaa        3\n",
       "channel_sales_foosdfpfkusacimwkcsosbicdxkicaua        1\n",
       "channel_sales_lmkebamcaaclubfxadlmueccxoimlema       15\n",
       "channel_sales_sddiedcslfslkckwlfkdpoeeailfpeds        1\n",
       "channel_sales_usilxuppasemubllopkaafesmlibmsdf        1\n",
       "has_gas_f                                            18\n",
       "has_gas_t                                            14\n",
       "origin_up_Unknown                                     1\n",
       "origin_up_ewxeelcelemmiwuafmddpobolfuxioce            9\n",
       "origin_up_kamkkxfxxuwbdslkwifmmcsiusiuosws            1\n",
       "origin_up_ldkssxwpmemidmecebumciepifcamkci            1\n",
       "origin_up_lxidpiddsbxsbosboudacockeimpuepw            1\n",
       "origin_up_usapbepcfoloekilkwsdiboslwaxobdp            1\n",
       "cons_gas_12m                                          1\n",
       "forecast_discount_energy                             12\n",
       "forecast_meter_rent_12m                              10\n",
       "forecast_price_pow_p1                                 7\n",
       "imp_cons                                              6\n",
       "nb_prod_act                                          17\n",
       "net_margin                                            2\n",
       "num_years_antig                                       1\n",
       "pow_max                                              11\n",
       "agg_margin                                            1\n",
       "agg_cons                                              1\n",
       "agg_forcastprice_p1p2                                 8\n",
       "price_p1_var                                         16\n",
       "price_p2_var                                          4\n",
       "price_p1_fix                                          5\n",
       "renewal                                              20\n",
       "modif                                                13\n",
       "tenure                                               19"
      ]
     },
     "execution_count": 135,
     "metadata": {},
     "output_type": "execute_result"
    }
   ],
   "source": [
    "df=pd.DataFrame(rec.ranking_,index=X.columns,columns=['ranking'])\n",
    "df"
   ]
  },
  {
   "cell_type": "code",
   "execution_count": 43,
   "metadata": {},
   "outputs": [],
   "source": [
    "#using random over sampling on data set"
   ]
  },
  {
   "cell_type": "code",
   "execution_count": 314,
   "metadata": {},
   "outputs": [
    {
     "data": {
      "text/plain": [
       "0    90.094457\n",
       "1     9.905543\n",
       "Name: churn, dtype: float64"
      ]
     },
     "execution_count": 314,
     "metadata": {},
     "output_type": "execute_result"
    }
   ],
   "source": [
    "y.value_counts()/y.shape[0]*100"
   ]
  },
  {
   "cell_type": "code",
   "execution_count": 315,
   "metadata": {},
   "outputs": [
    {
     "data": {
      "text/plain": [
       "(16092, 30)"
      ]
     },
     "execution_count": 315,
     "metadata": {},
     "output_type": "execute_result"
    }
   ],
   "source": [
    "X.shape"
   ]
  },
  {
   "cell_type": "code",
   "execution_count": 316,
   "metadata": {},
   "outputs": [],
   "source": [
    "X_train0, X_test0, y_train0, y_test0 = train_test_split(X, y, test_size=0.1, random_state=42)"
   ]
  },
  {
   "cell_type": "code",
   "execution_count": 317,
   "metadata": {},
   "outputs": [],
   "source": [
    "from imblearn.over_sampling import RandomOverSampler\n",
    "sampler=RandomOverSampler(random_state=110)\n",
    "X0,y0=sampler.fit_resample(X_train0,y_train0)"
   ]
  },
  {
   "cell_type": "code",
   "execution_count": 318,
   "metadata": {},
   "outputs": [
    {
     "data": {
      "text/plain": [
       "0    13053\n",
       "1    13053\n",
       "Name: churn, dtype: int64"
      ]
     },
     "execution_count": 318,
     "metadata": {},
     "output_type": "execute_result"
    }
   ],
   "source": [
    "y0.value_counts()"
   ]
  },
  {
   "cell_type": "code",
   "execution_count": 319,
   "metadata": {},
   "outputs": [],
   "source": [
    "X_train, X_test, y_train, y_test = train_test_split(X0, y0, test_size=0.2, random_state=42)"
   ]
  },
  {
   "cell_type": "code",
   "execution_count": 320,
   "metadata": {},
   "outputs": [],
   "source": [
    "from sklearn.ensemble import RandomForestClassifier,AdaBoostClassifier"
   ]
  },
  {
   "cell_type": "code",
   "execution_count": 321,
   "metadata": {},
   "outputs": [
    {
     "name": "stdout",
     "output_type": "stream",
     "text": [
      "              precision    recall  f1-score   support\n",
      "\n",
      "           0       1.00      0.99      1.00      2652\n",
      "           1       0.99      1.00      0.99      2570\n",
      "\n",
      "    accuracy                           1.00      5222\n",
      "   macro avg       0.99      1.00      1.00      5222\n",
      "weighted avg       1.00      1.00      1.00      5222\n",
      "\n",
      "ROC SCORE: 0.9999567905581866\n",
      "F1 : 0.9949592865451725\n"
     ]
    },
    {
     "data": {
      "text/plain": [
       "array([[2630,   22],\n",
       "       [   4, 2566]], dtype=int64)"
      ]
     },
     "execution_count": 321,
     "metadata": {},
     "output_type": "execute_result"
    }
   ],
   "source": [
    "RF=RandomForestClassifier(criterion='gini')\n",
    "RF.fit(X_train,y_train)\n",
    "y_pred_test=RF.predict(X_test)\n",
    "print(metrics.classification_report(y_test,y_pred_test))\n",
    "print('ROC SCORE:',metrics.roc_auc_score(y_test,RF.predict_proba(X_test)[:,1]))\n",
    "print('F1 :', metrics.f1_score(y_test,y_pred_test))\n",
    "metrics.confusion_matrix(y_test,y_pred_test)"
   ]
  },
  {
   "cell_type": "code",
   "execution_count": 322,
   "metadata": {},
   "outputs": [],
   "source": [
    "from sklearn.model_selection import RandomizedSearchCV"
   ]
  },
  {
   "cell_type": "code",
   "execution_count": 323,
   "metadata": {},
   "outputs": [
    {
     "name": "stdout",
     "output_type": "stream",
     "text": [
      "Fitting 3 folds for each of 10 candidates, totalling 30 fits\n"
     ]
    },
    {
     "data": {
      "text/plain": [
       "RandomizedSearchCV(cv=3, estimator=RandomForestClassifier(), n_jobs=-1,\n",
       "                   param_distributions={'max_depth': [4, 5, 6, 7, 8],\n",
       "                                        'max_leaf_nodes': [8, 12, 16, 20, 24,\n",
       "                                                           28, 32],\n",
       "                                        'n_estimators': [50, 100, 150, 200]},\n",
       "                   random_state=110, verbose=3)"
      ]
     },
     "execution_count": 323,
     "metadata": {},
     "output_type": "execute_result"
    }
   ],
   "source": [
    "RF=RandomForestClassifier()\n",
    "params={'n_estimators':[50,100,150,200],'max_depth':[4,5,6,7,8],'max_leaf_nodes':[8,12,16,20,24,28,32],\n",
    "       }\n",
    "RS=RandomizedSearchCV(estimator=RF,param_distributions=params,n_iter=10,cv=3,verbose=3,random_state=110,n_jobs=-1)\n",
    "RS.fit(X_train,y_train)"
   ]
  },
  {
   "cell_type": "code",
   "execution_count": 324,
   "metadata": {},
   "outputs": [
    {
     "data": {
      "text/plain": [
       "RandomForestClassifier(max_depth=5, max_leaf_nodes=32, n_estimators=200)"
      ]
     },
     "execution_count": 324,
     "metadata": {},
     "output_type": "execute_result"
    }
   ],
   "source": [
    "RS.best_estimator_"
   ]
  },
  {
   "cell_type": "code",
   "execution_count": 325,
   "metadata": {},
   "outputs": [
    {
     "name": "stdout",
     "output_type": "stream",
     "text": [
      "              precision    recall  f1-score   support\n",
      "\n",
      "           0       0.66      0.59      0.62      2652\n",
      "           1       0.62      0.69      0.65      2570\n",
      "\n",
      "    accuracy                           0.64      5222\n",
      "   macro avg       0.64      0.64      0.64      5222\n",
      "weighted avg       0.64      0.64      0.64      5222\n",
      "\n",
      "ROC SCORE: 0.7034725278917314\n",
      "F1 : 0.6514369933677229\n"
     ]
    },
    {
     "data": {
      "text/plain": [
       "array([[1562, 1090],\n",
       "       [ 802, 1768]], dtype=int64)"
      ]
     },
     "execution_count": 325,
     "metadata": {},
     "output_type": "execute_result"
    }
   ],
   "source": [
    "RF=RandomForestClassifier(max_depth=7, max_leaf_nodes=20, n_estimators=150)\n",
    "RF.fit(X_train,y_train)\n",
    "y_pred_test=RF.predict(X_test)\n",
    "print(metrics.classification_report(y_test,y_pred_test))\n",
    "print('ROC SCORE:',metrics.roc_auc_score(y_test,RF.predict_proba(X_test)[:,1]))\n",
    "print('F1 :', metrics.f1_score(y_test,y_pred_test))\n",
    "metrics.confusion_matrix(y_test,y_pred_test)"
   ]
  },
  {
   "cell_type": "code",
   "execution_count": 326,
   "metadata": {},
   "outputs": [
    {
     "name": "stdout",
     "output_type": "stream",
     "text": [
      "              precision    recall  f1-score   support\n",
      "\n",
      "           0       0.93      0.62      0.74      1445\n",
      "           1       0.15      0.61      0.25       165\n",
      "\n",
      "    accuracy                           0.62      1610\n",
      "   macro avg       0.54      0.61      0.49      1610\n",
      "weighted avg       0.85      0.62      0.69      1610\n",
      "\n"
     ]
    },
    {
     "data": {
      "text/plain": [
       "array([[890, 555],\n",
       "       [ 64, 101]], dtype=int64)"
      ]
     },
     "execution_count": 326,
     "metadata": {},
     "output_type": "execute_result"
    }
   ],
   "source": [
    "print(metrics.classification_report(y_test0,RF.predict(X_test0)))\n",
    "metrics.confusion_matrix(y_test0,RF.predict(X_test0))"
   ]
  },
  {
   "cell_type": "code",
   "execution_count": null,
   "metadata": {},
   "outputs": [],
   "source": []
  },
  {
   "cell_type": "code",
   "execution_count": 327,
   "metadata": {},
   "outputs": [
    {
     "name": "stdout",
     "output_type": "stream",
     "text": [
      "              precision    recall  f1-score   support\n",
      "\n",
      "           0       0.62      0.54      0.57      2652\n",
      "           1       0.58      0.65      0.61      2570\n",
      "\n",
      "    accuracy                           0.59      5222\n",
      "   macro avg       0.60      0.60      0.59      5222\n",
      "weighted avg       0.60      0.59      0.59      5222\n",
      "\n",
      "ROC SCORE: 0.633989324553527\n",
      "F1 : 0.6136446552353156\n"
     ]
    },
    {
     "data": {
      "text/plain": [
       "array([[1422, 1230],\n",
       "       [ 888, 1682]], dtype=int64)"
      ]
     },
     "execution_count": 327,
     "metadata": {},
     "output_type": "execute_result"
    }
   ],
   "source": [
    "Logr=LogisticRegression(solver='saga',max_iter=10000)\n",
    "Logr.fit(X_train,y_train)\n",
    "y_pred_test=Logr.predict(X_test)\n",
    "print(metrics.classification_report(y_test,y_pred_test))\n",
    "print('ROC SCORE:',metrics.roc_auc_score(y_test,Logr.predict_proba(X_test)[:,1]))\n",
    "print('F1 :', metrics.f1_score(y_test,y_pred_test))\n",
    "metrics.confusion_matrix(y_test,y_pred_test)"
   ]
  },
  {
   "cell_type": "code",
   "execution_count": null,
   "metadata": {},
   "outputs": [],
   "source": []
  },
  {
   "cell_type": "code",
   "execution_count": 328,
   "metadata": {},
   "outputs": [
    {
     "name": "stdout",
     "output_type": "stream",
     "text": [
      "              precision    recall  f1-score   support\n",
      "\n",
      "           0       0.91      0.69      0.79      2652\n",
      "           1       0.75      0.93      0.83      2570\n",
      "\n",
      "    accuracy                           0.81      5222\n",
      "   macro avg       0.83      0.81      0.81      5222\n",
      "weighted avg       0.83      0.81      0.81      5222\n",
      "\n",
      "F1 : 0.8282898149749266\n"
     ]
    },
    {
     "data": {
      "text/plain": [
       "array([[1834,  818],\n",
       "       [ 175, 2395]], dtype=int64)"
      ]
     },
     "execution_count": 328,
     "metadata": {},
     "output_type": "execute_result"
    }
   ],
   "source": [
    "from sklearn.neighbors import KNeighborsClassifier\n",
    "K=KNeighborsClassifier(n_neighbors=8,n_jobs=-1)\n",
    "K.fit(X_train,y_train)\n",
    "y_pred_test=K.predict(X_test)\n",
    "print(metrics.classification_report(y_test,y_pred_test))\n",
    "#print('ROC SCORE:',metrics.roc_auc_score(y_test,Logr.predict_proba(X_test)[:,1]))\n",
    "print('F1 :', metrics.f1_score(y_test,y_pred_test))\n",
    "metrics.confusion_matrix(y_test,y_pred_test)"
   ]
  },
  {
   "cell_type": "code",
   "execution_count": 329,
   "metadata": {},
   "outputs": [
    {
     "name": "stdout",
     "output_type": "stream",
     "text": [
      "              precision    recall  f1-score   support\n",
      "\n",
      "           0       0.91      0.69      0.79      1445\n",
      "           1       0.14      0.43      0.21       165\n",
      "\n",
      "    accuracy                           0.67      1610\n",
      "   macro avg       0.53      0.56      0.50      1610\n",
      "weighted avg       0.83      0.67      0.73      1610\n",
      "\n"
     ]
    },
    {
     "data": {
      "text/plain": [
       "array([[1001,  444],\n",
       "       [  94,   71]], dtype=int64)"
      ]
     },
     "execution_count": 329,
     "metadata": {},
     "output_type": "execute_result"
    }
   ],
   "source": [
    "print(metrics.classification_report(y_test0,K.predict(X_test0)))\n",
    "metrics.confusion_matrix(y_test0,K.predict(X_test0))"
   ]
  },
  {
   "cell_type": "code",
   "execution_count": null,
   "metadata": {},
   "outputs": [],
   "source": []
  },
  {
   "cell_type": "code",
   "execution_count": 330,
   "metadata": {},
   "outputs": [
    {
     "name": "stdout",
     "output_type": "stream",
     "text": [
      "              precision    recall  f1-score   support\n",
      "\n",
      "           0       0.64      0.59      0.62      2652\n",
      "           1       0.61      0.66      0.63      2570\n",
      "\n",
      "    accuracy                           0.63      5222\n",
      "   macro avg       0.63      0.63      0.63      5222\n",
      "weighted avg       0.63      0.63      0.63      5222\n",
      "\n",
      "ROC SCORE: 0.6805685893034257\n",
      "F1 : 0.634867190422746\n"
     ]
    },
    {
     "data": {
      "text/plain": [
       "array([[1573, 1079],\n",
       "       [ 873, 1697]], dtype=int64)"
      ]
     },
     "execution_count": 330,
     "metadata": {},
     "output_type": "execute_result"
    }
   ],
   "source": [
    "ADA=AdaBoostClassifier(learning_rate=.2,n_estimators=100)\n",
    "ADA.fit(X_train,y_train)\n",
    "y_pred_test=ADA.predict(X_test)\n",
    "print(metrics.classification_report(y_test,y_pred_test))\n",
    "print('ROC SCORE:',metrics.roc_auc_score(y_test,ADA.predict_proba(X_test)[:,1]))\n",
    "print('F1 :', metrics.f1_score(y_test,y_pred_test))\n",
    "metrics.confusion_matrix(y_test,y_pred_test)"
   ]
  },
  {
   "cell_type": "code",
   "execution_count": 331,
   "metadata": {},
   "outputs": [
    {
     "name": "stdout",
     "output_type": "stream",
     "text": [
      "              precision    recall  f1-score   support\n",
      "\n",
      "           0       0.94      0.61      0.74      1445\n",
      "           1       0.16      0.63      0.25       165\n",
      "\n",
      "    accuracy                           0.61      1610\n",
      "   macro avg       0.55      0.62      0.49      1610\n",
      "weighted avg       0.86      0.61      0.69      1610\n",
      "\n"
     ]
    },
    {
     "data": {
      "text/plain": [
       "array([[879, 566],\n",
       "       [ 61, 104]], dtype=int64)"
      ]
     },
     "execution_count": 331,
     "metadata": {},
     "output_type": "execute_result"
    }
   ],
   "source": [
    "print(metrics.classification_report(y_test0,ADA.predict(X_test0)))\n",
    "metrics.confusion_matrix(y_test0,ADA.predict(X_test0))"
   ]
  },
  {
   "cell_type": "code",
   "execution_count": null,
   "metadata": {},
   "outputs": [],
   "source": []
  },
  {
   "cell_type": "code",
   "execution_count": 332,
   "metadata": {},
   "outputs": [
    {
     "name": "stdout",
     "output_type": "stream",
     "text": [
      "[16:11:28] WARNING: C:/Users/Administrator/workspace/xgboost-win64_release_1.3.0/src/learner.cc:1061: Starting in XGBoost 1.3.0, the default evaluation metric used with the objective 'binary:logistic' was changed from 'error' to 'logloss'. Explicitly set eval_metric if you'd like to restore the old behavior.\n",
      "              precision    recall  f1-score   support\n",
      "\n",
      "           0       0.95      0.88      0.91      2652\n",
      "           1       0.89      0.95      0.92      2570\n",
      "\n",
      "    accuracy                           0.92      5222\n",
      "   macro avg       0.92      0.92      0.92      5222\n",
      "weighted avg       0.92      0.92      0.92      5222\n",
      "\n",
      "ROC SCORE: 0.9766195104201513\n",
      "F1 : 0.9179160419790106\n"
     ]
    },
    {
     "data": {
      "text/plain": [
       "array([[2335,  317],\n",
       "       [ 121, 2449]], dtype=int64)"
      ]
     },
     "execution_count": 332,
     "metadata": {},
     "output_type": "execute_result"
    }
   ],
   "source": [
    "from xgboost import XGBClassifier\n",
    "XGB=XGBClassifier(use_label_encoder=False)\n",
    "XGB.fit(X_train,y_train)\n",
    "y_pred_test=XGB.predict(X_test)\n",
    "print(metrics.classification_report(y_test,y_pred_test))\n",
    "print('ROC SCORE:',metrics.roc_auc_score(y_test,XGB.predict_proba(X_test)[:,1]))\n",
    "print('F1 :', metrics.f1_score(y_test,y_pred_test))\n",
    "metrics.confusion_matrix(y_test,y_pred_test)"
   ]
  },
  {
   "cell_type": "code",
   "execution_count": null,
   "metadata": {},
   "outputs": [],
   "source": []
  },
  {
   "cell_type": "code",
   "execution_count": 68,
   "metadata": {},
   "outputs": [
    {
     "name": "stdout",
     "output_type": "stream",
     "text": [
      "Fitting 5 folds for each of 10 candidates, totalling 50 fits\n",
      "[13:49:24] WARNING: C:/Users/Administrator/workspace/xgboost-win64_release_1.3.0/src/learner.cc:541: \n",
      "Parameters: { min_child_weight  } might not be used.\n",
      "\n",
      "  This may not be accurate due to some parameters are only used in language bindings but\n",
      "  passed down to XGBoost core.  Or some parameters are not used but slip through this\n",
      "  verification. Please open an issue if you find above cases.\n",
      "\n",
      "\n",
      "[13:49:24] WARNING: C:/Users/Administrator/workspace/xgboost-win64_release_1.3.0/src/learner.cc:1061: Starting in XGBoost 1.3.0, the default evaluation metric used with the objective 'binary:logistic' was changed from 'error' to 'logloss'. Explicitly set eval_metric if you'd like to restore the old behavior.\n"
     ]
    },
    {
     "data": {
      "text/plain": [
       "RandomizedSearchCV(cv=5,\n",
       "                   estimator=XGBClassifier(base_score=None, booster=None,\n",
       "                                           colsample_bylevel=None,\n",
       "                                           colsample_bynode=None,\n",
       "                                           colsample_bytree=None, gamma=None,\n",
       "                                           gpu_id=None, importance_type='gain',\n",
       "                                           interaction_constraints=None,\n",
       "                                           learning_rate=None,\n",
       "                                           max_delta_step=None, max_depth=None,\n",
       "                                           min_child_weight=None, missing=nan,\n",
       "                                           monotone_constraints=None,\n",
       "                                           n_estimators=100,...\n",
       "                                           random_state=None, reg_alpha=None,\n",
       "                                           reg_lambda=None,\n",
       "                                           scale_pos_weight=None,\n",
       "                                           subsample=None, tree_method=None,\n",
       "                                           use_label_encoder=False,\n",
       "                                           validate_parameters=None,\n",
       "                                           verbosity=None),\n",
       "                   n_jobs=-1,\n",
       "                   param_distributions={'gamma': [0.5, 1, 2, 5],\n",
       "                                        'learning_rate': [0.01, 0.1, 0.25, 0.5,\n",
       "                                                          1],\n",
       "                                        'max_depth': [4, 5, 6, 7, 8],\n",
       "                                        'min_child_weight ': [0, 0.5, 1],\n",
       "                                        'n_estimators': [50, 100, 150, 200]},\n",
       "                   random_state=110, verbose=3)"
      ]
     },
     "execution_count": 68,
     "metadata": {},
     "output_type": "execute_result"
    }
   ],
   "source": [
    "XGB=XGBClassifier(use_label_encoder=False)\n",
    "\n",
    "params={'n_estimators':[50,100,150,200],'max_depth':[4,5,6,7,8],'min_child_weight ':[0,.5,1],\n",
    "       'learning_rate':[0.01,0.1,0.25,0.5,1],'gamma':[.5,1,2,5]}\n",
    "RS=RandomizedSearchCV(estimator=XGB,param_distributions=params,n_iter=10,cv=5,verbose=3,random_state=110,n_jobs=-1)\n",
    "RS.fit(X_train,y_train)"
   ]
  },
  {
   "cell_type": "code",
   "execution_count": 69,
   "metadata": {},
   "outputs": [
    {
     "data": {
      "text/plain": [
       "XGBClassifier(base_score=0.5, booster='gbtree', colsample_bylevel=1,\n",
       "              colsample_bynode=1, colsample_bytree=1, gamma=1, gpu_id=-1,\n",
       "              importance_type='gain', interaction_constraints='',\n",
       "              learning_rate=0.5, max_delta_step=0, max_depth=6,\n",
       "              min_child_weight=1, min_child_weight =0.5, missing=nan,\n",
       "              monotone_constraints='()', n_estimators=150, n_jobs=4,\n",
       "              num_parallel_tree=1, random_state=0, reg_alpha=0, reg_lambda=1,\n",
       "              scale_pos_weight=1, subsample=1, tree_method='exact',\n",
       "              use_label_encoder=False, validate_parameters=1, verbosity=None)"
      ]
     },
     "execution_count": 69,
     "metadata": {},
     "output_type": "execute_result"
    }
   ],
   "source": [
    "RS.best_estimator_"
   ]
  },
  {
   "cell_type": "code",
   "execution_count": 333,
   "metadata": {},
   "outputs": [
    {
     "name": "stdout",
     "output_type": "stream",
     "text": [
      "[16:11:34] WARNING: C:/Users/Administrator/workspace/xgboost-win64_release_1.3.0/src/learner.cc:1061: Starting in XGBoost 1.3.0, the default evaluation metric used with the objective 'binary:logistic' was changed from 'error' to 'logloss'. Explicitly set eval_metric if you'd like to restore the old behavior.\n",
      "              precision    recall  f1-score   support\n",
      "\n",
      "           0       0.88      0.83      0.85      2652\n",
      "           1       0.83      0.88      0.86      2570\n",
      "\n",
      "    accuracy                           0.86      5222\n",
      "   macro avg       0.86      0.86      0.86      5222\n",
      "weighted avg       0.86      0.86      0.85      5222\n",
      "\n",
      "ROC SCORE: 0.935325662740403\n",
      "F1 : 0.8568186116890486\n"
     ]
    },
    {
     "data": {
      "text/plain": [
       "array([[2200,  452],\n",
       "       [ 305, 2265]], dtype=int64)"
      ]
     },
     "execution_count": 333,
     "metadata": {},
     "output_type": "execute_result"
    }
   ],
   "source": [
    "XGB=XGBClassifier(use_label_encoder=False,max_depth=7,learning_rate=.1,gamma=5,min_child_weight=1)\n",
    "XGB.fit(X_train,y_train)\n",
    "y_pred_test=XGB.predict(X_test)\n",
    "print(metrics.classification_report(y_test,y_pred_test))\n",
    "print('ROC SCORE:',metrics.roc_auc_score(y_test,XGB.predict_proba(X_test)[:,1]))\n",
    "print('F1 :', metrics.f1_score(y_test,y_pred_test))\n",
    "metrics.confusion_matrix(y_test,y_pred_test)"
   ]
  },
  {
   "cell_type": "raw",
   "metadata": {},
   "source": [
    "moving ahead with our XGB Model"
   ]
  },
  {
   "cell_type": "code",
   "execution_count": 334,
   "metadata": {},
   "outputs": [
    {
     "name": "stdout",
     "output_type": "stream",
     "text": [
      "              precision    recall  f1-score   support\n",
      "\n",
      "           0       0.93      0.85      0.89      1445\n",
      "           1       0.25      0.42      0.31       165\n",
      "\n",
      "    accuracy                           0.81      1610\n",
      "   macro avg       0.59      0.64      0.60      1610\n",
      "weighted avg       0.86      0.81      0.83      1610\n",
      "\n"
     ]
    },
    {
     "data": {
      "text/plain": [
       "array([[1231,  214],\n",
       "       [  95,   70]], dtype=int64)"
      ]
     },
     "execution_count": 334,
     "metadata": {},
     "output_type": "execute_result"
    }
   ],
   "source": [
    "print(metrics.classification_report(y_test0,XGB.predict(X_test0)))\n",
    "metrics.confusion_matrix(y_test0,XGB.predict(X_test0))"
   ]
  },
  {
   "cell_type": "raw",
   "metadata": {},
   "source": [
    "Comparison with all the models Logr, Knn, ADA, RF, XGB , on test set performance of XGB is better compared to other models\n",
    "\n",
    "The metrics concidered is F1 score and RoC score ,on the test set not validation set, "
   ]
  },
  {
   "cell_type": "code",
   "execution_count": null,
   "metadata": {},
   "outputs": [],
   "source": []
  },
  {
   "cell_type": "code",
   "execution_count": 335,
   "metadata": {},
   "outputs": [
    {
     "data": {
      "text/plain": [
       "(array([ 0,  1,  2,  3,  4,  5,  6,  7,  8,  9, 10, 11, 12, 13, 14, 15, 16,\n",
       "        17, 18, 19, 20, 21, 22, 23, 24, 25, 26, 27, 28, 29]),\n",
       " <a list of 30 Text major ticklabel objects>)"
      ]
     },
     "execution_count": 335,
     "metadata": {},
     "output_type": "execute_result"
    },
    {
     "data": {
      "image/png": "[encoded data removed]",
      "text/plain": [
       "<Figure size 1152x504 with 1 Axes>"
      ]
     },
     "metadata": {
      "needs_background": "light"
     },
     "output_type": "display_data"
    }
   ],
   "source": [
    "df=pd.DataFrame(XGB.feature_importances_,index=X_train0.columns,columns=['Score']).reset_index()\n",
    "df=df.sort_values(by='Score',ascending=False)\n",
    "\n",
    "plt.rcParams['figure.figsize']=[16,7]\n",
    "sns.barplot(df['index'],df['Score'])\n",
    "plt.xticks(rotation='vertical')"
   ]
  },
  {
   "cell_type": "raw",
   "metadata": {},
   "source": [
    "From feature Importance as expected , agg cons,agg mergin are most important numerical aspect of the power consumption\n",
    "agg consumption and no of years active , while we can observe that our model is price sensitive too"
   ]
  },
  {
   "cell_type": "code",
   "execution_count": null,
   "metadata": {},
   "outputs": [],
   "source": []
  },
  {
   "cell_type": "code",
   "execution_count": 336,
   "metadata": {},
   "outputs": [],
   "source": [
    "from sklearn.model_selection import cross_val_predict,cross_val_score"
   ]
  },
  {
   "cell_type": "code",
   "execution_count": 337,
   "metadata": {},
   "outputs": [],
   "source": [
    "def crossvalidate(model):\n",
    "    CV=cross_val_score(estimator=model, X=X_train,y=y_train,cv=3)\n",
    "    print('Scores:', CV)\n",
    "    print('Mean Score:',CV.mean())"
   ]
  },
  {
   "cell_type": "code",
   "execution_count": 338,
   "metadata": {},
   "outputs": [
    {
     "name": "stdout",
     "output_type": "stream",
     "text": [
      "KNeighborsClassifier\n",
      "Scores: [0.80767021 0.80304554 0.79485706]\n",
      "Mean Score: 0.8018576033036581\n",
      "\n",
      "\n",
      "XGBClassifier\n",
      "[16:12:00] WARNING: C:/Users/Administrator/workspace/xgboost-win64_release_1.3.0/src/learner.cc:1061: Starting in XGBoost 1.3.0, the default evaluation metric used with the objective 'binary:logistic' was changed from 'error' to 'logloss'. Explicitly set eval_metric if you'd like to restore the old behavior.\n",
      "[16:12:03] WARNING: C:/Users/Administrator/workspace/xgboost-win64_release_1.3.0/src/learner.cc:1061: Starting in XGBoost 1.3.0, the default evaluation metric used with the objective 'binary:logistic' was changed from 'error' to 'logloss'. Explicitly set eval_metric if you'd like to restore the old behavior.\n",
      "[16:12:06] WARNING: C:/Users/Administrator/workspace/xgboost-win64_release_1.3.0/src/learner.cc:1061: Starting in XGBoost 1.3.0, the default evaluation metric used with the objective 'binary:logistic' was changed from 'error' to 'logloss'. Explicitly set eval_metric if you'd like to restore the old behavior.\n",
      "Scores: [0.91223786 0.91581669 0.90906479]\n",
      "Mean Score: 0.9123731150762495\n",
      "\n",
      "\n",
      "LogisticRegression\n",
      "Scores: [0.59781672 0.60278696 0.6093952 ]\n",
      "Mean Score: 0.6033329590231608\n",
      "\n",
      "\n",
      "AdaBoostClassifier\n",
      "Scores: [0.63386958 0.63827036 0.6313748 ]\n",
      "Mean Score: 0.6345049145439972\n"
     ]
    }
   ],
   "source": [
    "print('KNeighborsClassifier')\n",
    "crossvalidate(KNeighborsClassifier())\n",
    "\n",
    "print('\\n\\nXGBClassifier')\n",
    "crossvalidate(XGBClassifier(use_label_encoder=False))\n",
    "\n",
    "print('\\n\\nLogisticRegression')\n",
    "crossvalidate(LogisticRegression(solver='saga',max_iter=10000))\n",
    "\n",
    "print('\\n\\nAdaBoostClassifier')\n",
    "crossvalidate(AdaBoostClassifier())\n"
   ]
  },
  {
   "cell_type": "code",
   "execution_count": 339,
   "metadata": {},
   "outputs": [],
   "source": [
    "def ROC(model):\n",
    "    proba=model.predict_proba(X_test)[:,1]\n",
    "    fpr,tpr,th=metrics.roc_curve(y_test,proba)\n",
    "    plt.plot(fpr,tpr,marker=',',label=[model,metrics.roc_auc_score(y_test,proba)])\n",
    "    plt.plot([0,1],[0,1],linestyle='--',color='red')\n",
    "    plt.legend()"
   ]
  },
  {
   "cell_type": "code",
   "execution_count": 340,
   "metadata": {},
   "outputs": [
    {
     "data": {
      "image/png": "[encoded data removed]",
      "text/plain": [
       "<Figure size 1008x720 with 1 Axes>"
      ]
     },
     "metadata": {
      "needs_background": "light"
     },
     "output_type": "display_data"
    }
   ],
   "source": [
    "plt.rcParams['figure.figsize']=[14,10]\n",
    "ROC(ADA)\n",
    "ROC(RF)\n",
    "ROC(XGB)\n",
    "ROC(Logr)"
   ]
  },
  {
   "cell_type": "code",
   "execution_count": null,
   "metadata": {},
   "outputs": [],
   "source": []
  },
  {
   "cell_type": "raw",
   "metadata": {},
   "source": [
    "Basic idea is to form clusster and visualize"
   ]
  },
  {
   "cell_type": "code",
   "execution_count": 341,
   "metadata": {},
   "outputs": [
    {
     "data": {
      "text/plain": [
       "Index(['channel_sales_epumfxlbckeskwekxbiuasklxalciiuu',\n",
       "       'channel_sales_ewpakwlliwisiwduibdlfmalxowmwpci',\n",
       "       'channel_sales_fixdbufsefwooaasfcxdxadsiekoceaa',\n",
       "       'channel_sales_foosdfpfkusacimwkcsosbicdxkicaua',\n",
       "       'channel_sales_lmkebamcaaclubfxadlmueccxoimlema',\n",
       "       'channel_sales_sddiedcslfslkckwlfkdpoeeailfpeds',\n",
       "       'channel_sales_usilxuppasemubllopkaafesmlibmsdf', 'has_gas_t',\n",
       "       'origin_up_ewxeelcelemmiwuafmddpobolfuxioce',\n",
       "       'origin_up_kamkkxfxxuwbdslkwifmmcsiusiuosws',\n",
       "       'origin_up_ldkssxwpmemidmecebumciepifcamkci',\n",
       "       'origin_up_lxidpiddsbxsbosboudacockeimpuepw',\n",
       "       'origin_up_usapbepcfoloekilkwsdiboslwaxobdp', 'cons_gas_12m',\n",
       "       'forecast_discount_energy', 'forecast_meter_rent_12m',\n",
       "       'forecast_price_pow_p1', 'imp_cons', 'nb_prod_act', 'net_margin',\n",
       "       'num_years_antig', 'pow_max', 'agg_margin', 'agg_cons', 'price_p1_var',\n",
       "       'price_p2_var', 'price_p1_fix', 'renewal', 'modif', 'tenure'],\n",
       "      dtype='object')"
      ]
     },
     "execution_count": 341,
     "metadata": {},
     "output_type": "execute_result"
    }
   ],
   "source": [
    "X.columns"
   ]
  },
  {
   "cell_type": "code",
   "execution_count": 392,
   "metadata": {},
   "outputs": [
    {
     "data": {
      "text/html": [
       "<div>\n",
       "<style scoped>\n",
       "    .dataframe tbody tr th:only-of-type {\n",
       "        vertical-align: middle;\n",
       "    }\n",
       "\n",
       "    .dataframe tbody tr th {\n",
       "        vertical-align: top;\n",
       "    }\n",
       "\n",
       "    .dataframe thead th {\n",
       "        text-align: right;\n",
       "    }\n",
       "</style>\n",
       "<table border=\"1\" class=\"dataframe\">\n",
       "  <thead>\n",
       "    <tr style=\"text-align: right;\">\n",
       "      <th></th>\n",
       "      <th>activity_new</th>\n",
       "      <th>channel_sales</th>\n",
       "      <th>has_gas</th>\n",
       "      <th>origin_up</th>\n",
       "    </tr>\n",
       "  </thead>\n",
       "  <tbody>\n",
       "    <tr>\n",
       "      <th>0</th>\n",
       "      <td>esoiiifxdlbkcsluxmfuacbdckommixw</td>\n",
       "      <td>lmkebamcaaclubfxadlmueccxoimlema</td>\n",
       "      <td>f</td>\n",
       "      <td>ldkssxwpmemidmecebumciepifcamkci</td>\n",
       "    </tr>\n",
       "    <tr>\n",
       "      <th>1</th>\n",
       "      <td>Unknown</td>\n",
       "      <td>foosdfpfkusacimwkcsosbicdxkicaua</td>\n",
       "      <td>t</td>\n",
       "      <td>lxidpiddsbxsbosboudacockeimpuepw</td>\n",
       "    </tr>\n",
       "    <tr>\n",
       "      <th>2</th>\n",
       "      <td>Unknown</td>\n",
       "      <td>Unknown</td>\n",
       "      <td>f</td>\n",
       "      <td>kamkkxfxxuwbdslkwifmmcsiusiuosws</td>\n",
       "    </tr>\n",
       "    <tr>\n",
       "      <th>3</th>\n",
       "      <td>Unknown</td>\n",
       "      <td>foosdfpfkusacimwkcsosbicdxkicaua</td>\n",
       "      <td>f</td>\n",
       "      <td>kamkkxfxxuwbdslkwifmmcsiusiuosws</td>\n",
       "    </tr>\n",
       "    <tr>\n",
       "      <th>4</th>\n",
       "      <td>Unknown</td>\n",
       "      <td>lmkebamcaaclubfxadlmueccxoimlema</td>\n",
       "      <td>f</td>\n",
       "      <td>kamkkxfxxuwbdslkwifmmcsiusiuosws</td>\n",
       "    </tr>\n",
       "  </tbody>\n",
       "</table>\n",
       "</div>"
      ],
      "text/plain": [
       "                       activity_new                     channel_sales has_gas  \\\n",
       "0  esoiiifxdlbkcsluxmfuacbdckommixw  lmkebamcaaclubfxadlmueccxoimlema       f   \n",
       "1                           Unknown  foosdfpfkusacimwkcsosbicdxkicaua       t   \n",
       "2                           Unknown                           Unknown       f   \n",
       "3                           Unknown  foosdfpfkusacimwkcsosbicdxkicaua       f   \n",
       "4                           Unknown  lmkebamcaaclubfxadlmueccxoimlema       f   \n",
       "\n",
       "                          origin_up  \n",
       "0  ldkssxwpmemidmecebumciepifcamkci  \n",
       "1  lxidpiddsbxsbosboudacockeimpuepw  \n",
       "2  kamkkxfxxuwbdslkwifmmcsiusiuosws  \n",
       "3  kamkkxfxxuwbdslkwifmmcsiusiuosws  \n",
       "4  kamkkxfxxuwbdslkwifmmcsiusiuosws  "
      ]
     },
     "execution_count": 392,
     "metadata": {},
     "output_type": "execute_result"
    }
   ],
   "source": [
    "cat=data.select_dtypes(include='object')\n",
    "cat.head()"
   ]
  },
  {
   "cell_type": "code",
   "execution_count": 391,
   "metadata": {},
   "outputs": [
    {
     "data": {
      "text/plain": [
       "(16092, 432)"
      ]
     },
     "execution_count": 391,
     "metadata": {},
     "output_type": "execute_result"
    }
   ],
   "source": [
    "c.shape"
   ]
  },
  {
   "cell_type": "code",
   "execution_count": 394,
   "metadata": {},
   "outputs": [
    {
     "data": {
      "text/plain": [
       "((16092, 13), (16092, 31))"
      ]
     },
     "execution_count": 394,
     "metadata": {},
     "output_type": "execute_result"
    }
   ],
   "source": [
    "c=pd.get_dummies(cat[['has_gas','origin_up','channel_sales']],drop_first=True)\n",
    "new=pd.concat([c,num_sc,target],axis=1)\n",
    "c.shape,new.shape"
   ]
  },
  {
   "cell_type": "code",
   "execution_count": 491,
   "metadata": {},
   "outputs": [],
   "source": [
    "cus=new[new['churn']==0].drop('churn',axis=1).copy(deep=True)"
   ]
  },
  {
   "cell_type": "code",
   "execution_count": 492,
   "metadata": {},
   "outputs": [],
   "source": [
    "from sklearn.cluster import KMeans"
   ]
  },
  {
   "cell_type": "code",
   "execution_count": 478,
   "metadata": {},
   "outputs": [],
   "source": [
    "#concidering all the customer who has not churned"
   ]
  },
  {
   "cell_type": "code",
   "execution_count": 479,
   "metadata": {},
   "outputs": [
    {
     "data": {
      "text/plain": [
       "0    14498\n",
       "1     1594\n",
       "Name: churn, dtype: int64"
      ]
     },
     "execution_count": 479,
     "metadata": {},
     "output_type": "execute_result"
    }
   ],
   "source": [
    "y.value_counts()"
   ]
  },
  {
   "cell_type": "code",
   "execution_count": 480,
   "metadata": {},
   "outputs": [
    {
     "data": {
      "text/plain": [
       "(14498, 30)"
      ]
     },
     "execution_count": 480,
     "metadata": {},
     "output_type": "execute_result"
    }
   ],
   "source": [
    "cus.shape"
   ]
  },
  {
   "cell_type": "code",
   "execution_count": 481,
   "metadata": {},
   "outputs": [],
   "source": [
    "e=[]\n",
    "for i in range(2,15):\n",
    "    KM=KMeans(n_clusters=i)\n",
    "    KM.fit(cus)\n",
    "    e.append(KM.inertia_)"
   ]
  },
  {
   "cell_type": "code",
   "execution_count": 482,
   "metadata": {},
   "outputs": [
    {
     "data": {
      "text/plain": [
       "[<matplotlib.lines.Line2D at 0x1b00eff7880>]"
      ]
     },
     "execution_count": 482,
     "metadata": {},
     "output_type": "execute_result"
    },
    {
     "data": {
      "image/png": "[encoded data removed]",
      "text/plain": [
       "<Figure size 792x504 with 1 Axes>"
      ]
     },
     "metadata": {
      "needs_background": "light"
     },
     "output_type": "display_data"
    }
   ],
   "source": [
    "plt.rcParams['figure.figsize']=[11,7]\n",
    "plt.plot(np.arange(2,15),e,marker='o')"
   ]
  },
  {
   "cell_type": "code",
   "execution_count": 483,
   "metadata": {},
   "outputs": [
    {
     "data": {
      "text/plain": [
       "KMeans(n_clusters=2)"
      ]
     },
     "execution_count": 483,
     "metadata": {},
     "output_type": "execute_result"
    }
   ],
   "source": [
    "KM=KMeans(n_clusters=2)\n",
    "KM.fit(cus)"
   ]
  },
  {
   "cell_type": "code",
   "execution_count": 484,
   "metadata": {},
   "outputs": [
    {
     "data": {
      "text/plain": [
       "labels\n",
       "1         0.583943\n",
       "0         0.416057\n",
       "dtype: float64"
      ]
     },
     "execution_count": 484,
     "metadata": {},
     "output_type": "execute_result"
    }
   ],
   "source": [
    "lbl=pd.DataFrame(KM.labels_,columns=['labels'])\n",
    "lbl.value_counts()/lbl.shape[0]"
   ]
  },
  {
   "cell_type": "raw",
   "metadata": {},
   "source": [
    "so from clustering we can concider 2 clusters and say 6032 subsribers are supposed to churn "
   ]
  },
  {
   "cell_type": "code",
   "execution_count": 499,
   "metadata": {},
   "outputs": [],
   "source": [
    "cus=new[new['churn']==0].drop('churn',axis=1).copy(deep=True)\n",
    "cus['labels']=KM.labels_"
   ]
  },
  {
   "cell_type": "code",
   "execution_count": 500,
   "metadata": {},
   "outputs": [],
   "source": [
    "n1=cus['price_p1_fix']\n",
    "n2=cus['price_p1_var']\n",
    "n3=cus['price_p2_var']\n",
    "for i in range(cus.shape[0]):\n",
    "    if cus['labels'].iloc[i]==1:\n",
    "        n1=n1*.8\n",
    "        n2=n2*.8\n",
    "        n3=n3*.8\n",
    "cus['price_p1_fix']=n1\n",
    "cus['price_p1_var']=n2\n",
    "cus['price_p2_var']=n3"
   ]
  },
  {
   "cell_type": "code",
   "execution_count": null,
   "metadata": {},
   "outputs": [],
   "source": []
  },
  {
   "cell_type": "code",
   "execution_count": null,
   "metadata": {},
   "outputs": [],
   "source": []
  },
  {
   "cell_type": "code",
   "execution_count": null,
   "metadata": {},
   "outputs": [],
   "source": []
  },
  {
   "cell_type": "code",
   "execution_count": null,
   "metadata": {},
   "outputs": [],
   "source": []
  },
  {
   "cell_type": "code",
   "execution_count": 468,
   "metadata": {
    "scrolled": true
   },
   "outputs": [
    {
     "data": {
      "text/html": [
       "<div>\n",
       "<style scoped>\n",
       "    .dataframe tbody tr th:only-of-type {\n",
       "        vertical-align: middle;\n",
       "    }\n",
       "\n",
       "    .dataframe tbody tr th {\n",
       "        vertical-align: top;\n",
       "    }\n",
       "\n",
       "    .dataframe thead th {\n",
       "        text-align: right;\n",
       "    }\n",
       "</style>\n",
       "<table border=\"1\" class=\"dataframe\">\n",
       "  <thead>\n",
       "    <tr style=\"text-align: right;\">\n",
       "      <th></th>\n",
       "      <th>cons_gas_12m</th>\n",
       "      <th>forecast_discount_energy</th>\n",
       "      <th>forecast_meter_rent_12m</th>\n",
       "      <th>forecast_price_pow_p1</th>\n",
       "      <th>imp_cons</th>\n",
       "      <th>nb_prod_act</th>\n",
       "      <th>net_margin</th>\n",
       "      <th>num_years_antig</th>\n",
       "      <th>pow_max</th>\n",
       "      <th>agg_margin</th>\n",
       "      <th>agg_cons</th>\n",
       "      <th>price_p1_var</th>\n",
       "      <th>price_p2_var</th>\n",
       "      <th>price_p1_fix</th>\n",
       "      <th>renewal</th>\n",
       "      <th>modif</th>\n",
       "      <th>tenure</th>\n",
       "    </tr>\n",
       "  </thead>\n",
       "  <tbody>\n",
       "    <tr>\n",
       "      <th>0</th>\n",
       "      <td>-0.365024</td>\n",
       "      <td>-0.191207</td>\n",
       "      <td>2.254024</td>\n",
       "      <td>2.976542</td>\n",
       "      <td>1.689951</td>\n",
       "      <td>-0.481342</td>\n",
       "      <td>2.951821</td>\n",
       "      <td>-1.505559</td>\n",
       "      <td>4.452821</td>\n",
       "      <td>-2.627054</td>\n",
       "      <td>1.083137</td>\n",
       "      <td>-1.545772</td>\n",
       "      <td>0.756978</td>\n",
       "      <td>2.914238</td>\n",
       "      <td>-0.906780</td>\n",
       "      <td>-0.958099</td>\n",
       "      <td>-0.985806</td>\n",
       "    </tr>\n",
       "    <tr>\n",
       "      <th>1</th>\n",
       "      <td>1.637571</td>\n",
       "      <td>-0.191207</td>\n",
       "      <td>-1.448720</td>\n",
       "      <td>-0.564868</td>\n",
       "      <td>-0.992962</td>\n",
       "      <td>1.336979</td>\n",
       "      <td>1.564805</td>\n",
       "      <td>-1.505559</td>\n",
       "      <td>1.791548</td>\n",
       "      <td>0.143285</td>\n",
       "      <td>-1.154502</td>\n",
       "      <td>-0.747032</td>\n",
       "      <td>0.957992</td>\n",
       "      <td>-0.501244</td>\n",
       "      <td>-1.787778</td>\n",
       "      <td>-0.958099</td>\n",
       "      <td>-1.753514</td>\n",
       "    </tr>\n",
       "    <tr>\n",
       "      <th>2</th>\n",
       "      <td>-0.365024</td>\n",
       "      <td>-0.191207</td>\n",
       "      <td>-0.618647</td>\n",
       "      <td>0.148580</td>\n",
       "      <td>-0.992962</td>\n",
       "      <td>-0.481342</td>\n",
       "      <td>-1.073358</td>\n",
       "      <td>0.727290</td>\n",
       "      <td>-0.371374</td>\n",
       "      <td>-0.230216</td>\n",
       "      <td>-0.607672</td>\n",
       "      <td>0.367442</td>\n",
       "      <td>-1.090551</td>\n",
       "      <td>0.184109</td>\n",
       "      <td>0.952827</td>\n",
       "      <td>-0.958099</td>\n",
       "      <td>0.942084</td>\n",
       "    </tr>\n",
       "    <tr>\n",
       "      <th>3</th>\n",
       "      <td>-0.365024</td>\n",
       "      <td>-0.191207</td>\n",
       "      <td>-0.085487</td>\n",
       "      <td>0.148580</td>\n",
       "      <td>-0.992962</td>\n",
       "      <td>-0.481342</td>\n",
       "      <td>-1.412477</td>\n",
       "      <td>0.727290</td>\n",
       "      <td>-0.363767</td>\n",
       "      <td>0.273557</td>\n",
       "      <td>-0.887248</td>\n",
       "      <td>1.214365</td>\n",
       "      <td>0.682894</td>\n",
       "      <td>0.197168</td>\n",
       "      <td>0.412462</td>\n",
       "      <td>-0.958099</td>\n",
       "      <td>0.393376</td>\n",
       "    </tr>\n",
       "    <tr>\n",
       "      <th>4</th>\n",
       "      <td>-0.365024</td>\n",
       "      <td>-0.191207</td>\n",
       "      <td>-0.510169</td>\n",
       "      <td>0.148580</td>\n",
       "      <td>-0.992962</td>\n",
       "      <td>-0.481342</td>\n",
       "      <td>-0.953380</td>\n",
       "      <td>0.727290</td>\n",
       "      <td>-0.454871</td>\n",
       "      <td>0.340342</td>\n",
       "      <td>-0.772872</td>\n",
       "      <td>0.419963</td>\n",
       "      <td>-1.090551</td>\n",
       "      <td>0.199930</td>\n",
       "      <td>0.412462</td>\n",
       "      <td>-0.958099</td>\n",
       "      <td>0.393376</td>\n",
       "    </tr>\n",
       "  </tbody>\n",
       "</table>\n",
       "</div>"
      ],
      "text/plain": [
       "   cons_gas_12m  forecast_discount_energy  forecast_meter_rent_12m  \\\n",
       "0     -0.365024                 -0.191207                 2.254024   \n",
       "1      1.637571                 -0.191207                -1.448720   \n",
       "2     -0.365024                 -0.191207                -0.618647   \n",
       "3     -0.365024                 -0.191207                -0.085487   \n",
       "4     -0.365024                 -0.191207                -0.510169   \n",
       "\n",
       "   forecast_price_pow_p1  imp_cons  nb_prod_act  net_margin  num_years_antig  \\\n",
       "0               2.976542  1.689951    -0.481342    2.951821        -1.505559   \n",
       "1              -0.564868 -0.992962     1.336979    1.564805        -1.505559   \n",
       "2               0.148580 -0.992962    -0.481342   -1.073358         0.727290   \n",
       "3               0.148580 -0.992962    -0.481342   -1.412477         0.727290   \n",
       "4               0.148580 -0.992962    -0.481342   -0.953380         0.727290   \n",
       "\n",
       "    pow_max  agg_margin  agg_cons  price_p1_var  price_p2_var  price_p1_fix  \\\n",
       "0  4.452821   -2.627054  1.083137     -1.545772      0.756978      2.914238   \n",
       "1  1.791548    0.143285 -1.154502     -0.747032      0.957992     -0.501244   \n",
       "2 -0.371374   -0.230216 -0.607672      0.367442     -1.090551      0.184109   \n",
       "3 -0.363767    0.273557 -0.887248      1.214365      0.682894      0.197168   \n",
       "4 -0.454871    0.340342 -0.772872      0.419963     -1.090551      0.199930   \n",
       "\n",
       "    renewal     modif    tenure  \n",
       "0 -0.906780 -0.958099 -0.985806  \n",
       "1 -1.787778 -0.958099 -1.753514  \n",
       "2  0.952827 -0.958099  0.942084  \n",
       "3  0.412462 -0.958099  0.393376  \n",
       "4  0.412462 -0.958099  0.393376  "
      ]
     },
     "execution_count": 468,
     "metadata": {},
     "output_type": "execute_result"
    }
   ],
   "source": [
    "num_sc.head()"
   ]
  },
  {
   "cell_type": "code",
   "execution_count": 501,
   "metadata": {},
   "outputs": [],
   "source": [
    "e=[]\n",
    "for i in range(2,15):\n",
    "    KM=KMeans(n_clusters=i)\n",
    "    KM.fit(cus)\n",
    "    e.append(KM.inertia_)"
   ]
  },
  {
   "cell_type": "code",
   "execution_count": 502,
   "metadata": {},
   "outputs": [
    {
     "data": {
      "text/plain": [
       "[<matplotlib.lines.Line2D at 0x1b0101f81c0>]"
      ]
     },
     "execution_count": 502,
     "metadata": {},
     "output_type": "execute_result"
    },
    {
     "data": {
      "image/png": "[encoded data removed]",
      "text/plain": [
       "<Figure size 792x504 with 1 Axes>"
      ]
     },
     "metadata": {
      "needs_background": "light"
     },
     "output_type": "display_data"
    }
   ],
   "source": [
    "plt.rcParams['figure.figsize']=[11,7]\n",
    "plt.plot(np.arange(2,15),e,marker='o')"
   ]
  },
  {
   "cell_type": "code",
   "execution_count": 503,
   "metadata": {},
   "outputs": [
    {
     "data": {
      "text/plain": [
       "KMeans(n_clusters=2)"
      ]
     },
     "execution_count": 503,
     "metadata": {},
     "output_type": "execute_result"
    }
   ],
   "source": [
    "KM=KMeans(n_clusters=2)\n",
    "KM.fit(cus)"
   ]
  },
  {
   "cell_type": "code",
   "execution_count": 504,
   "metadata": {},
   "outputs": [
    {
     "data": {
      "text/plain": [
       "labels\n",
       "1         0.525935\n",
       "0         0.474065\n",
       "dtype: float64"
      ]
     },
     "execution_count": 504,
     "metadata": {},
     "output_type": "execute_result"
    }
   ],
   "source": [
    "lbl=pd.DataFrame(KM.labels_,columns=['labels'])\n",
    "lbl.value_counts()/lbl.shape[0]"
   ]
  },
  {
   "cell_type": "raw",
   "metadata": {},
   "source": [
    "We can see there is not much effective conversion of churns with respect to discount , only effective change turns out to infecctive"
   ]
  },
  {
   "cell_type": "code",
   "execution_count": null,
   "metadata": {},
   "outputs": [],
   "source": []
  }
 ],
 "metadata": {
  "kernelspec": {
   "display_name": "Python 3",
   "language": "python",
   "name": "python3"
  },
  "language_info": {
   "codemirror_mode": {
    "name": "ipython",
    "version": 3
   },
   "file_extension": ".py",
   "mimetype": "text/x-python",
   "name": "python",
   "nbconvert_exporter": "python",
   "pygments_lexer": "ipython3",
   "version": "3.8.3"
  }
 },
 "nbformat": 4,
 "nbformat_minor": 4
}
